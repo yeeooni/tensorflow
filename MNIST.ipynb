{
 "cells": [
  {
   "cell_type": "code",
   "execution_count": 4,
   "id": "6241389e",
   "metadata": {},
   "outputs": [
    {
     "name": "stdout",
     "output_type": "stream",
     "text": [
      "Model: \"sequential_3\"\n",
      "_________________________________________________________________\n",
      "Layer (type)                 Output Shape              Param #   \n",
      "=================================================================\n",
      "flatten_3 (Flatten)          (None, 784)               0         \n",
      "_________________________________________________________________\n",
      "dense_15 (Dense)             (None, 258)               202530    \n",
      "_________________________________________________________________\n",
      "dense_16 (Dense)             (None, 128)               33152     \n",
      "_________________________________________________________________\n",
      "dense_17 (Dense)             (None, 64)                8256      \n",
      "_________________________________________________________________\n",
      "dense_18 (Dense)             (None, 32)                2080      \n",
      "_________________________________________________________________\n",
      "dropout_3 (Dropout)          (None, 32)                0         \n",
      "_________________________________________________________________\n",
      "dense_19 (Dense)             (None, 10)                330       \n",
      "=================================================================\n",
      "Total params: 246,348\n",
      "Trainable params: 246,348\n",
      "Non-trainable params: 0\n",
      "_________________________________________________________________\n",
      "Epoch 1/10\n",
      "   8/1875 [..............................] - ETA: 14s - loss: 2.2386 - accuracy: 0.1953     "
     ]
    },
    {
     "name": "stderr",
     "output_type": "stream",
     "text": [
      "2023-03-28 20:33:49.217981: I tensorflow/core/grappler/optimizers/custom_graph_optimizer_registry.cc:112] Plugin optimizer for device_type GPU is enabled.\n"
     ]
    },
    {
     "name": "stdout",
     "output_type": "stream",
     "text": [
      "1870/1875 [============================>.] - ETA: 0s - loss: 0.2809 - accuracy: 0.9182"
     ]
    },
    {
     "name": "stderr",
     "output_type": "stream",
     "text": [
      "2023-03-28 20:34:00.031819: I tensorflow/core/grappler/optimizers/custom_graph_optimizer_registry.cc:112] Plugin optimizer for device_type GPU is enabled.\n"
     ]
    },
    {
     "name": "stdout",
     "output_type": "stream",
     "text": [
      "1875/1875 [==============================] - 12s 6ms/step - loss: 0.2809 - accuracy: 0.9182 - val_loss: 0.1124 - val_accuracy: 0.9650\n",
      "Epoch 2/10\n",
      "1875/1875 [==============================] - 12s 6ms/step - loss: 0.1158 - accuracy: 0.9675 - val_loss: 0.1014 - val_accuracy: 0.9706\n",
      "Epoch 3/10\n",
      "1875/1875 [==============================] - 12s 6ms/step - loss: 0.0856 - accuracy: 0.9756 - val_loss: 0.0903 - val_accuracy: 0.9749\n",
      "Epoch 4/10\n",
      "1875/1875 [==============================] - 12s 6ms/step - loss: 0.0647 - accuracy: 0.9812 - val_loss: 0.0808 - val_accuracy: 0.9767\n",
      "Epoch 5/10\n",
      "1875/1875 [==============================] - 12s 6ms/step - loss: 0.0545 - accuracy: 0.9841 - val_loss: 0.0889 - val_accuracy: 0.9758\n",
      "Epoch 6/10\n",
      "1875/1875 [==============================] - 12s 6ms/step - loss: 0.0422 - accuracy: 0.9879 - val_loss: 0.0977 - val_accuracy: 0.9751\n",
      "Epoch 7/10\n",
      "1875/1875 [==============================] - 12s 6ms/step - loss: 0.0380 - accuracy: 0.9890 - val_loss: 0.0904 - val_accuracy: 0.9782\n",
      "Epoch 8/10\n",
      "1875/1875 [==============================] - 12s 6ms/step - loss: 0.0328 - accuracy: 0.9904 - val_loss: 0.0774 - val_accuracy: 0.9794\n",
      "Epoch 9/10\n",
      "1875/1875 [==============================] - 12s 6ms/step - loss: 0.0294 - accuracy: 0.9915 - val_loss: 0.0849 - val_accuracy: 0.9807\n",
      "Epoch 10/10\n",
      "1875/1875 [==============================] - 12s 6ms/step - loss: 0.0268 - accuracy: 0.9920 - val_loss: 0.0858 - val_accuracy: 0.9818\n",
      "313/313 - 1s - loss: 0.0858 - accuracy: 0.9818\n"
     ]
    },
    {
     "data": {
      "text/plain": [
       "[0.08577337861061096, 0.9818000197410583]"
      ]
     },
     "execution_count": 4,
     "metadata": {},
     "output_type": "execute_result"
    }
   ],
   "source": [
    "import tensorflow as tf\n",
    "import pandas as pd\n",
    "import matplotlib.pyplot as plt\n",
    "\n",
    "#params\n",
    "#validation_split=0.2\n",
    "\n",
    "# MNIST 데이터셋 임포트\n",
    "mnist = tf.keras.datasets.mnist\n",
    "(x_train, y_train), (x_test, y_test) = mnist.load_data()\n",
    "\n",
    "\"\"\"\n",
    "print (x_train)\n",
    "print (y_train)\n",
    "\n",
    "# 0~1 사이의 실수 변환\n",
    "#x_train = x_train.astype('float32')\n",
    "#y_train = y_train.astype('float32')\n",
    "\n",
    "print (x_train)\n",
    "print (y_train)\n",
    "\"\"\"\n",
    "\n",
    "# 데이터 정규화\n",
    "x_train, x_test = x_train / 255.0, x_test / 255.0\n",
    "\n",
    "# 학습데이터, 테스터데이터 갯수 파악\n",
    "#print('x images train datasets :', x_train.shape)\n",
    "#print('y images train datasets :', y_train.shape)\n",
    "\n",
    "# 첫번째 학습데이터 데이터프레임 출력\n",
    "#pd.DataFrame(x_train[0])\n",
    "\"\"\"\n",
    "plt.figure(figsize=(10, 10))\n",
    "\n",
    "for c in range(16):\n",
    "    plt.subplot(4, 4, c + 1)\n",
    "    plt.imshow(x_train[c].reshape(28, 28), cmap='gray')\n",
    "\n",
    "plt.show()\n",
    "\"\"\"\n",
    "#print (y_train[:16])\n",
    "\n",
    "# 머신러닝 모델 빌드\n",
    "model = tf.keras.models.Sequential([\n",
    "  # Flatten함수를 사용하여 1차원 배열로 변환 \n",
    "  tf.keras.layers.Flatten(input_shape=(28, 28)),\n",
    "  # 은닉층에서 주로 사용하는 활성화 함수인 relu 선언 \n",
    "  # Dense layer 생성 출력 뉴런 2n\n",
    "  tf.keras.layers.Dense(258, activation='relu'),\n",
    "  tf.keras.layers.Dense(128, activation='relu'),\n",
    "  tf.keras.layers.Dense(64, activation='relu'),\n",
    "  tf.keras.layers.Dense(32, activation='relu'),\n",
    "  tf.keras.layers.Dropout(0.2),\n",
    "  tf.keras.layers.Dense(10, activation='softmax')\n",
    "])\n",
    "\n",
    "predictions = model(x_train[:1]).numpy()\n",
    "#predictions\n",
    "\n",
    "loss_fn = tf.keras.losses.SparseCategoricalCrossentropy(from_logits=True)\n",
    "\n",
    "#loss_fn(y_train[:1], predictions).numpy()\n",
    "\n",
    "#sparse_categorical_crossentropy --> loss: 0.806 accuracy : 97%\n",
    "loss_fn = 'sparse_categorical_crossentropy'\n",
    "#loss_fn = tf.keras.losses.SparseCategoricalCrossentropy(from_logits=True)\n",
    "\n",
    "model.compile(optimizer='adam',\n",
    "              loss=loss_fn,\n",
    "              metrics=['accuracy'])\n",
    "\n",
    "model.summary()\n",
    "\n",
    "# 모델 훈련 및 평가\n",
    "model.fit(x_train, y_train, epochs=10, validation_data=(x_test, y_test))\n",
    "\n",
    "# 모델 성능 확인\n",
    "model.evaluate(x_test,  y_test, verbose=2)"
   ]
  },
  {
   "cell_type": "code",
   "execution_count": null,
   "id": "7429fb2a",
   "metadata": {},
   "outputs": [],
   "source": []
  }
 ],
 "metadata": {
  "kernelspec": {
   "display_name": "Python 3 (ipykernel)",
   "language": "python",
   "name": "python3"
  },
  "language_info": {
   "codemirror_mode": {
    "name": "ipython",
    "version": 3
   },
   "file_extension": ".py",
   "mimetype": "text/x-python",
   "name": "python",
   "nbconvert_exporter": "python",
   "pygments_lexer": "ipython3",
   "version": "3.9.15"
  }
 },
 "nbformat": 4,
 "nbformat_minor": 5
}
