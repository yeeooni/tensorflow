{
  "cells": [
    {
      "cell_type": "markdown",
      "metadata": {
        "id": "P6TtYdrfdS3g"
      },
      "source": [
        "# Text Sentiment classificattion (feat.klue.korbert)"
      ]
    },
    {
      "cell_type": "code",
      "execution_count": null,
      "metadata": {
        "colab": {
          "base_uri": "https://localhost:8080/"
        },
        "id": "spI8P1i-XMKw",
        "outputId": "530e8487-e59c-48a2-a16d-4894d1d56b9a"
      },
      "outputs": [
        {
          "output_type": "stream",
          "name": "stdout",
          "text": [
            "Python 3.10.12\n"
          ]
        }
      ],
      "source": [
        "!python --version"
      ]
    },
    {
      "cell_type": "markdown",
      "source": [
        "### 나눔고딕 글꼴 사용 시 설치"
      ],
      "metadata": {
        "id": "mm_XuxJS9EuF"
      }
    },
    {
      "cell_type": "markdown",
      "metadata": {
        "id": "YcPdpLMCw5p9"
      },
      "source": [
        "> 워드 클라우드 사용을 위해 코랩 환경에 한글 폰트 (나눔)을 설치한다.\n",
        ">> 단어의 유사도를 직관적으로 표현할 때 사용한다."
      ]
    },
    {
      "cell_type": "code",
      "execution_count": null,
      "metadata": {
        "id": "WBZCfsvohiHs"
      },
      "outputs": [],
      "source": [
        "!apt-get update -qq\n",
        "!apt-get install fonts-nanum*\n",
        "!apt-get install fontconfig"
      ]
    },
    {
      "cell_type": "markdown",
      "metadata": {
        "id": "jdNux0cVyseF"
      },
      "source": [
        "### 필수 라이브러리 설치\n",
        "\n",
        "1. [파이썬 한국어 NLP(konlpy)\n",
        "  - 한국어 정보처리를 위한 파이썬 패키지](https://konlpy.org/ko/latest/index.html)\n",
        "\n",
        "2. transformers\n",
        "  - 각각 라이브러리의 특징을 기술\n",
        "\n",
        "3. tensorflow_addons\n",
        "  - 각각 라이브러리의 특징을 기술\n",
        "\n",
        "4. simplejson\n",
        "  - 각각 라이브러리의 특징을 기술\n",
        "\n",
        "> konlpy, transformers, tensorflow_addons, simplejson 라이브러리를 설치합니다."
      ]
    },
    {
      "cell_type": "code",
      "execution_count": null,
      "metadata": {
        "colab": {
          "base_uri": "https://localhost:8080/"
        },
        "id": "vjuzOIRnSiju",
        "outputId": "b0477303-d189-4b78-ee55-930cded203b8"
      },
      "outputs": [
        {
          "output_type": "stream",
          "name": "stdout",
          "text": [
            "Looking in indexes: https://pypi.org/simple, https://us-python.pkg.dev/colab-wheels/public/simple/\n",
            "Requirement already satisfied: konlpy in /usr/local/lib/python3.10/dist-packages (0.6.0)\n",
            "Requirement already satisfied: JPype1>=0.7.0 in /usr/local/lib/python3.10/dist-packages (from konlpy) (1.4.1)\n",
            "Requirement already satisfied: lxml>=4.1.0 in /usr/local/lib/python3.10/dist-packages (from konlpy) (4.9.2)\n",
            "Requirement already satisfied: numpy>=1.6 in /usr/local/lib/python3.10/dist-packages (from konlpy) (1.22.4)\n",
            "Requirement already satisfied: packaging in /usr/local/lib/python3.10/dist-packages (from JPype1>=0.7.0->konlpy) (23.1)\n",
            "Looking in indexes: https://pypi.org/simple, https://us-python.pkg.dev/colab-wheels/public/simple/\n",
            "Requirement already satisfied: transformers in /usr/local/lib/python3.10/dist-packages (4.30.2)\n",
            "Requirement already satisfied: filelock in /usr/local/lib/python3.10/dist-packages (from transformers) (3.12.0)\n",
            "Requirement already satisfied: huggingface-hub<1.0,>=0.14.1 in /usr/local/lib/python3.10/dist-packages (from transformers) (0.15.1)\n",
            "Requirement already satisfied: numpy>=1.17 in /usr/local/lib/python3.10/dist-packages (from transformers) (1.22.4)\n",
            "Requirement already satisfied: packaging>=20.0 in /usr/local/lib/python3.10/dist-packages (from transformers) (23.1)\n",
            "Requirement already satisfied: pyyaml>=5.1 in /usr/local/lib/python3.10/dist-packages (from transformers) (6.0)\n",
            "Requirement already satisfied: regex!=2019.12.17 in /usr/local/lib/python3.10/dist-packages (from transformers) (2022.10.31)\n",
            "Requirement already satisfied: requests in /usr/local/lib/python3.10/dist-packages (from transformers) (2.27.1)\n",
            "Requirement already satisfied: tokenizers!=0.11.3,<0.14,>=0.11.1 in /usr/local/lib/python3.10/dist-packages (from transformers) (0.13.3)\n",
            "Requirement already satisfied: safetensors>=0.3.1 in /usr/local/lib/python3.10/dist-packages (from transformers) (0.3.1)\n",
            "Requirement already satisfied: tqdm>=4.27 in /usr/local/lib/python3.10/dist-packages (from transformers) (4.65.0)\n",
            "Requirement already satisfied: fsspec in /usr/local/lib/python3.10/dist-packages (from huggingface-hub<1.0,>=0.14.1->transformers) (2023.4.0)\n",
            "Requirement already satisfied: typing-extensions>=3.7.4.3 in /usr/local/lib/python3.10/dist-packages (from huggingface-hub<1.0,>=0.14.1->transformers) (4.5.0)\n",
            "Requirement already satisfied: urllib3<1.27,>=1.21.1 in /usr/local/lib/python3.10/dist-packages (from requests->transformers) (1.26.15)\n",
            "Requirement already satisfied: certifi>=2017.4.17 in /usr/local/lib/python3.10/dist-packages (from requests->transformers) (2022.12.7)\n",
            "Requirement already satisfied: charset-normalizer~=2.0.0 in /usr/local/lib/python3.10/dist-packages (from requests->transformers) (2.0.12)\n",
            "Requirement already satisfied: idna<4,>=2.5 in /usr/local/lib/python3.10/dist-packages (from requests->transformers) (3.4)\n",
            "Looking in indexes: https://pypi.org/simple, https://us-python.pkg.dev/colab-wheels/public/simple/\n",
            "Requirement already satisfied: tensorflow_addons in /usr/local/lib/python3.10/dist-packages (0.20.0)\n",
            "Requirement already satisfied: packaging in /usr/local/lib/python3.10/dist-packages (from tensorflow_addons) (23.1)\n",
            "Requirement already satisfied: typeguard<3.0.0,>=2.7 in /usr/local/lib/python3.10/dist-packages (from tensorflow_addons) (2.13.3)\n",
            "Looking in indexes: https://pypi.org/simple, https://us-python.pkg.dev/colab-wheels/public/simple/\n",
            "Requirement already satisfied: simplejson in /usr/local/lib/python3.10/dist-packages (3.19.1)\n"
          ]
        }
      ],
      "source": [
        "!pip install konlpy\n",
        "!pip install transformers\n",
        "!pip install tensorflow_addons\n",
        "!pip install simplejson"
      ]
    },
    {
      "cell_type": "code",
      "execution_count": null,
      "metadata": {
        "id": "bOKXeA2WUXrQ"
      },
      "outputs": [],
      "source": [
        "import numpy as np\n",
        "import pandas as pd\n",
        "import matplotlib.pyplot as plt\n",
        "import matplotlib.font_manager as fm\n",
        "import tensorflow\n",
        "from tensorflow import keras\n",
        "import re\n",
        "import json\n",
        "import urllib.request\n",
        "import seaborn as sns\n",
        "import tensorflow_addons as tfa\n",
        "import tensorflow as tf\n",
        "import nltk\n",
        "import os.path\n",
        "from nltk.corpus import stopwords\n",
        "from google.colab import drive\n",
        "from konlpy.tag import Okt\n",
        "from tqdm import tqdm\n",
        "from keras.callbacks import EarlyStopping, ModelCheckpoint\n",
        "from collections import Counter\n",
        "from transformers import BertTokenizer, TFBertForSequenceClassification\n",
        "from sklearn.model_selection import train_test_split\n",
        "from sklearn.metrics import accuracy_score, f1_score, precision_score, recall_score, \\\n",
        "                            roc_auc_score, confusion_matrix, classification_report, \\\n",
        "                            matthews_corrcoef, cohen_kappa_score, log_loss\n",
        "from sklearn.feature_extraction.text import CountVectorizer # frequency based DTM\n",
        "from sklearn.feature_extraction.text import TfidfVectorizer # tf-idf based DTM\n",
        "from wordcloud import WordCloud\n",
        "from os import path\n",
        "from typing import List"
      ]
    },
    {
      "cell_type": "markdown",
      "metadata": {
        "id": "aDkrOXzQAOys"
      },
      "source": [
        "### E.G\n",
        "> 단어 유사도 측정"
      ]
    },
    {
      "cell_type": "code",
      "execution_count": null,
      "metadata": {
        "colab": {
          "base_uri": "https://localhost:8080/"
        },
        "id": "BHKyCR4fANph",
        "outputId": "25d7a146-3199-4811-ac6b-9318bc2d9818"
      },
      "outputs": [
        {
          "output_type": "display_data",
          "data": {
            "text/plain": [
              "   apple  banana  carrot  eggplant  grape  orange\n",
              "0      2       1       0         1      0       0\n",
              "1      0       1       1         1      0       1\n",
              "2      1       2       1         0      0       0\n",
              "3      0       1       0         0      1       1"
            ],
            "text/html": [
              "\n",
              "  <div id=\"df-c9929331-0556-424c-844b-e6a7327e9350\">\n",
              "    <div class=\"colab-df-container\">\n",
              "      <div>\n",
              "<style scoped>\n",
              "    .dataframe tbody tr th:only-of-type {\n",
              "        vertical-align: middle;\n",
              "    }\n",
              "\n",
              "    .dataframe tbody tr th {\n",
              "        vertical-align: top;\n",
              "    }\n",
              "\n",
              "    .dataframe thead th {\n",
              "        text-align: right;\n",
              "    }\n",
              "</style>\n",
              "<table border=\"1\" class=\"dataframe\">\n",
              "  <thead>\n",
              "    <tr style=\"text-align: right;\">\n",
              "      <th></th>\n",
              "      <th>apple</th>\n",
              "      <th>banana</th>\n",
              "      <th>carrot</th>\n",
              "      <th>eggplant</th>\n",
              "      <th>grape</th>\n",
              "      <th>orange</th>\n",
              "    </tr>\n",
              "  </thead>\n",
              "  <tbody>\n",
              "    <tr>\n",
              "      <th>0</th>\n",
              "      <td>2</td>\n",
              "      <td>1</td>\n",
              "      <td>0</td>\n",
              "      <td>1</td>\n",
              "      <td>0</td>\n",
              "      <td>0</td>\n",
              "    </tr>\n",
              "    <tr>\n",
              "      <th>1</th>\n",
              "      <td>0</td>\n",
              "      <td>1</td>\n",
              "      <td>1</td>\n",
              "      <td>1</td>\n",
              "      <td>0</td>\n",
              "      <td>1</td>\n",
              "    </tr>\n",
              "    <tr>\n",
              "      <th>2</th>\n",
              "      <td>1</td>\n",
              "      <td>2</td>\n",
              "      <td>1</td>\n",
              "      <td>0</td>\n",
              "      <td>0</td>\n",
              "      <td>0</td>\n",
              "    </tr>\n",
              "    <tr>\n",
              "      <th>3</th>\n",
              "      <td>0</td>\n",
              "      <td>1</td>\n",
              "      <td>0</td>\n",
              "      <td>0</td>\n",
              "      <td>1</td>\n",
              "      <td>1</td>\n",
              "    </tr>\n",
              "  </tbody>\n",
              "</table>\n",
              "</div>\n",
              "      <button class=\"colab-df-convert\" onclick=\"convertToInteractive('df-c9929331-0556-424c-844b-e6a7327e9350')\"\n",
              "              title=\"Convert this dataframe to an interactive table.\"\n",
              "              style=\"display:none;\">\n",
              "        \n",
              "  <svg xmlns=\"http://www.w3.org/2000/svg\" height=\"24px\"viewBox=\"0 0 24 24\"\n",
              "       width=\"24px\">\n",
              "    <path d=\"M0 0h24v24H0V0z\" fill=\"none\"/>\n",
              "    <path d=\"M18.56 5.44l.94 2.06.94-2.06 2.06-.94-2.06-.94-.94-2.06-.94 2.06-2.06.94zm-11 1L8.5 8.5l.94-2.06 2.06-.94-2.06-.94L8.5 2.5l-.94 2.06-2.06.94zm10 10l.94 2.06.94-2.06 2.06-.94-2.06-.94-.94-2.06-.94 2.06-2.06.94z\"/><path d=\"M17.41 7.96l-1.37-1.37c-.4-.4-.92-.59-1.43-.59-.52 0-1.04.2-1.43.59L10.3 9.45l-7.72 7.72c-.78.78-.78 2.05 0 2.83L4 21.41c.39.39.9.59 1.41.59.51 0 1.02-.2 1.41-.59l7.78-7.78 2.81-2.81c.8-.78.8-2.07 0-2.86zM5.41 20L4 18.59l7.72-7.72 1.47 1.35L5.41 20z\"/>\n",
              "  </svg>\n",
              "      </button>\n",
              "      \n",
              "  <style>\n",
              "    .colab-df-container {\n",
              "      display:flex;\n",
              "      flex-wrap:wrap;\n",
              "      gap: 12px;\n",
              "    }\n",
              "\n",
              "    .colab-df-convert {\n",
              "      background-color: #E8F0FE;\n",
              "      border: none;\n",
              "      border-radius: 50%;\n",
              "      cursor: pointer;\n",
              "      display: none;\n",
              "      fill: #1967D2;\n",
              "      height: 32px;\n",
              "      padding: 0 0 0 0;\n",
              "      width: 32px;\n",
              "    }\n",
              "\n",
              "    .colab-df-convert:hover {\n",
              "      background-color: #E2EBFA;\n",
              "      box-shadow: 0px 1px 2px rgba(60, 64, 67, 0.3), 0px 1px 3px 1px rgba(60, 64, 67, 0.15);\n",
              "      fill: #174EA6;\n",
              "    }\n",
              "\n",
              "    [theme=dark] .colab-df-convert {\n",
              "      background-color: #3B4455;\n",
              "      fill: #D2E3FC;\n",
              "    }\n",
              "\n",
              "    [theme=dark] .colab-df-convert:hover {\n",
              "      background-color: #434B5C;\n",
              "      box-shadow: 0px 1px 3px 1px rgba(0, 0, 0, 0.15);\n",
              "      filter: drop-shadow(0px 1px 2px rgba(0, 0, 0, 0.3));\n",
              "      fill: #FFFFFF;\n",
              "    }\n",
              "  </style>\n",
              "\n",
              "      <script>\n",
              "        const buttonEl =\n",
              "          document.querySelector('#df-c9929331-0556-424c-844b-e6a7327e9350 button.colab-df-convert');\n",
              "        buttonEl.style.display =\n",
              "          google.colab.kernel.accessAllowed ? 'block' : 'none';\n",
              "\n",
              "        async function convertToInteractive(key) {\n",
              "          const element = document.querySelector('#df-c9929331-0556-424c-844b-e6a7327e9350');\n",
              "          const dataTable =\n",
              "            await google.colab.kernel.invokeFunction('convertToInteractive',\n",
              "                                                     [key], {});\n",
              "          if (!dataTable) return;\n",
              "\n",
              "          const docLinkHtml = 'Like what you see? Visit the ' +\n",
              "            '<a target=\"_blank\" href=https://colab.research.google.com/notebooks/data_table.ipynb>data table notebook</a>'\n",
              "            + ' to learn more about interactive tables.';\n",
              "          element.innerHTML = '';\n",
              "          dataTable['output_type'] = 'display_data';\n",
              "          await google.colab.output.renderOutput(dataTable, element);\n",
              "          const docLink = document.createElement('div');\n",
              "          docLink.innerHTML = docLinkHtml;\n",
              "          element.appendChild(docLink);\n",
              "        }\n",
              "      </script>\n",
              "    </div>\n",
              "  </div>\n",
              "  "
            ]
          },
          "metadata": {}
        },
        {
          "output_type": "stream",
          "name": "stdout",
          "text": [
            "apple       2\n",
            "banana      4\n",
            "carrot      2\n",
            "eggplant    2\n",
            "grape       1\n",
            "orange      2\n",
            "dtype: int64\n"
          ]
        },
        {
          "output_type": "execute_result",
          "data": {
            "text/plain": [
              "array([[2, 1, 0, 1, 0, 0],\n",
              "       [0, 1, 1, 1, 0, 1],\n",
              "       [1, 2, 1, 0, 0, 0],\n",
              "       [0, 1, 0, 0, 1, 1]])"
            ]
          },
          "metadata": {},
          "execution_count": 5
        }
      ],
      "source": [
        "# E.G, Word cloud\n",
        "EXAMPLE_ARR = ['banana apple apple eggplant',\n",
        "               'orange carrot banana eggplant',\n",
        "               'apple carrot banana banana',\n",
        "               'orange banana grape']\n",
        "\n",
        "#CountVectorizer\n",
        "tf_vectorizer = CountVectorizer()\n",
        "tf_features = tf_vectorizer.fit_transform(EXAMPLE_ARR)\n",
        "tf_features\n",
        "\n",
        "# 유사 단어 출현 횟수 데이터 프레임\n",
        "tf = pd.DataFrame(tf_features.toarray(), columns = tf_vectorizer.get_feature_names_out())\n",
        "display(tf)\n",
        "\n",
        "# Document Frequency\n",
        "df = tf.astype(bool).sum(axis = 0)\n",
        "print (df)\n",
        "\n",
        "# DTM 생성\n",
        "features = np.array(tf_features.todense())\n",
        "# 각 행은 개별 문서에 대한 벡터를 나타낸다.\n",
        "features"
      ]
    },
    {
      "cell_type": "code",
      "execution_count": null,
      "metadata": {
        "colab": {
          "base_uri": "https://localhost:8080/"
        },
        "id": "goLY7p-FBIxY",
        "outputId": "b1b409c5-57e7-4e39-da2c-8ebdd5ca0942"
      },
      "outputs": [
        {
          "output_type": "execute_result",
          "data": {
            "text/plain": [
              "array(['apple', 'banana', 'carrot', 'eggplant', 'grape', 'orange'],\n",
              "      dtype=object)"
            ]
          },
          "metadata": {},
          "execution_count": 6
        }
      ],
      "source": [
        "feature_names = tf_vectorizer.get_feature_names_out()\n",
        "feature_names"
      ]
    },
    {
      "cell_type": "markdown",
      "metadata": {
        "id": "eK0BFPPLVNA-"
      },
      "source": [
        "> 딕셔너리에 있던 단어간의 유사도를 계산하여 출력한다."
      ]
    },
    {
      "cell_type": "code",
      "execution_count": null,
      "metadata": {
        "colab": {
          "base_uri": "https://localhost:8080/"
        },
        "id": "2ESY7eG5BYDx",
        "outputId": "c6561043-a12f-42ba-ac5a-1a558493f772"
      },
      "outputs": [
        {
          "output_type": "execute_result",
          "data": {
            "text/plain": [
              "2.0"
            ]
          },
          "metadata": {},
          "execution_count": 7
        }
      ],
      "source": [
        "#문서1과 문서0의 유사도 계산\n",
        "np.linalg.norm(features[1]-features[0])\n",
        "#문서1과 문서2의 유사도 계산\n",
        "np.linalg.norm(features[1]-features[2])"
      ]
    },
    {
      "cell_type": "code",
      "execution_count": null,
      "metadata": {
        "colab": {
          "base_uri": "https://localhost:8080/"
        },
        "id": "vs_hE1eAEJF2",
        "outputId": "68f744b3-6439-4fae-f3ab-c0d0d60b1f6f"
      },
      "outputs": [
        {
          "output_type": "execute_result",
          "data": {
            "text/plain": [
              "      apple    banana    carrot  eggplant     grape    orange\n",
              "0  0.857643  0.283833  0.000000  0.428821  0.000000  0.000000\n",
              "1  0.000000  0.356966  0.539313  0.539313  0.000000  0.539313\n",
              "2  0.516233  0.683379  0.516233  0.000000  0.000000  0.000000\n",
              "3  0.000000  0.379192  0.000000  0.000000  0.726641  0.572892"
            ],
            "text/html": [
              "\n",
              "  <div id=\"df-76631e0e-52be-4814-9e90-35662a15904b\">\n",
              "    <div class=\"colab-df-container\">\n",
              "      <div>\n",
              "<style scoped>\n",
              "    .dataframe tbody tr th:only-of-type {\n",
              "        vertical-align: middle;\n",
              "    }\n",
              "\n",
              "    .dataframe tbody tr th {\n",
              "        vertical-align: top;\n",
              "    }\n",
              "\n",
              "    .dataframe thead th {\n",
              "        text-align: right;\n",
              "    }\n",
              "</style>\n",
              "<table border=\"1\" class=\"dataframe\">\n",
              "  <thead>\n",
              "    <tr style=\"text-align: right;\">\n",
              "      <th></th>\n",
              "      <th>apple</th>\n",
              "      <th>banana</th>\n",
              "      <th>carrot</th>\n",
              "      <th>eggplant</th>\n",
              "      <th>grape</th>\n",
              "      <th>orange</th>\n",
              "    </tr>\n",
              "  </thead>\n",
              "  <tbody>\n",
              "    <tr>\n",
              "      <th>0</th>\n",
              "      <td>0.857643</td>\n",
              "      <td>0.283833</td>\n",
              "      <td>0.000000</td>\n",
              "      <td>0.428821</td>\n",
              "      <td>0.000000</td>\n",
              "      <td>0.000000</td>\n",
              "    </tr>\n",
              "    <tr>\n",
              "      <th>1</th>\n",
              "      <td>0.000000</td>\n",
              "      <td>0.356966</td>\n",
              "      <td>0.539313</td>\n",
              "      <td>0.539313</td>\n",
              "      <td>0.000000</td>\n",
              "      <td>0.539313</td>\n",
              "    </tr>\n",
              "    <tr>\n",
              "      <th>2</th>\n",
              "      <td>0.516233</td>\n",
              "      <td>0.683379</td>\n",
              "      <td>0.516233</td>\n",
              "      <td>0.000000</td>\n",
              "      <td>0.000000</td>\n",
              "      <td>0.000000</td>\n",
              "    </tr>\n",
              "    <tr>\n",
              "      <th>3</th>\n",
              "      <td>0.000000</td>\n",
              "      <td>0.379192</td>\n",
              "      <td>0.000000</td>\n",
              "      <td>0.000000</td>\n",
              "      <td>0.726641</td>\n",
              "      <td>0.572892</td>\n",
              "    </tr>\n",
              "  </tbody>\n",
              "</table>\n",
              "</div>\n",
              "      <button class=\"colab-df-convert\" onclick=\"convertToInteractive('df-76631e0e-52be-4814-9e90-35662a15904b')\"\n",
              "              title=\"Convert this dataframe to an interactive table.\"\n",
              "              style=\"display:none;\">\n",
              "        \n",
              "  <svg xmlns=\"http://www.w3.org/2000/svg\" height=\"24px\"viewBox=\"0 0 24 24\"\n",
              "       width=\"24px\">\n",
              "    <path d=\"M0 0h24v24H0V0z\" fill=\"none\"/>\n",
              "    <path d=\"M18.56 5.44l.94 2.06.94-2.06 2.06-.94-2.06-.94-.94-2.06-.94 2.06-2.06.94zm-11 1L8.5 8.5l.94-2.06 2.06-.94-2.06-.94L8.5 2.5l-.94 2.06-2.06.94zm10 10l.94 2.06.94-2.06 2.06-.94-2.06-.94-.94-2.06-.94 2.06-2.06.94z\"/><path d=\"M17.41 7.96l-1.37-1.37c-.4-.4-.92-.59-1.43-.59-.52 0-1.04.2-1.43.59L10.3 9.45l-7.72 7.72c-.78.78-.78 2.05 0 2.83L4 21.41c.39.39.9.59 1.41.59.51 0 1.02-.2 1.41-.59l7.78-7.78 2.81-2.81c.8-.78.8-2.07 0-2.86zM5.41 20L4 18.59l7.72-7.72 1.47 1.35L5.41 20z\"/>\n",
              "  </svg>\n",
              "      </button>\n",
              "      \n",
              "  <style>\n",
              "    .colab-df-container {\n",
              "      display:flex;\n",
              "      flex-wrap:wrap;\n",
              "      gap: 12px;\n",
              "    }\n",
              "\n",
              "    .colab-df-convert {\n",
              "      background-color: #E8F0FE;\n",
              "      border: none;\n",
              "      border-radius: 50%;\n",
              "      cursor: pointer;\n",
              "      display: none;\n",
              "      fill: #1967D2;\n",
              "      height: 32px;\n",
              "      padding: 0 0 0 0;\n",
              "      width: 32px;\n",
              "    }\n",
              "\n",
              "    .colab-df-convert:hover {\n",
              "      background-color: #E2EBFA;\n",
              "      box-shadow: 0px 1px 2px rgba(60, 64, 67, 0.3), 0px 1px 3px 1px rgba(60, 64, 67, 0.15);\n",
              "      fill: #174EA6;\n",
              "    }\n",
              "\n",
              "    [theme=dark] .colab-df-convert {\n",
              "      background-color: #3B4455;\n",
              "      fill: #D2E3FC;\n",
              "    }\n",
              "\n",
              "    [theme=dark] .colab-df-convert:hover {\n",
              "      background-color: #434B5C;\n",
              "      box-shadow: 0px 1px 3px 1px rgba(0, 0, 0, 0.15);\n",
              "      filter: drop-shadow(0px 1px 2px rgba(0, 0, 0, 0.3));\n",
              "      fill: #FFFFFF;\n",
              "    }\n",
              "  </style>\n",
              "\n",
              "      <script>\n",
              "        const buttonEl =\n",
              "          document.querySelector('#df-76631e0e-52be-4814-9e90-35662a15904b button.colab-df-convert');\n",
              "        buttonEl.style.display =\n",
              "          google.colab.kernel.accessAllowed ? 'block' : 'none';\n",
              "\n",
              "        async function convertToInteractive(key) {\n",
              "          const element = document.querySelector('#df-76631e0e-52be-4814-9e90-35662a15904b');\n",
              "          const dataTable =\n",
              "            await google.colab.kernel.invokeFunction('convertToInteractive',\n",
              "                                                     [key], {});\n",
              "          if (!dataTable) return;\n",
              "\n",
              "          const docLinkHtml = 'Like what you see? Visit the ' +\n",
              "            '<a target=\"_blank\" href=https://colab.research.google.com/notebooks/data_table.ipynb>data table notebook</a>'\n",
              "            + ' to learn more about interactive tables.';\n",
              "          element.innerHTML = '';\n",
              "          dataTable['output_type'] = 'display_data';\n",
              "          await google.colab.output.renderOutput(dataTable, element);\n",
              "          const docLink = document.createElement('div');\n",
              "          docLink.innerHTML = docLinkHtml;\n",
              "          element.appendChild(docLink);\n",
              "        }\n",
              "      </script>\n",
              "    </div>\n",
              "  </div>\n",
              "  "
            ]
          },
          "metadata": {},
          "execution_count": 8
        }
      ],
      "source": [
        "# 문서 개수\n",
        "D = len(tf)\n",
        "\n",
        "# Inverse Document Frequency\n",
        "idf = np.log((D+1) / (df+1)) + 1\n",
        "\n",
        "# TF-IDF\n",
        "tfidf = tf * idf\n",
        "tfidf = tfidf / np.linalg.norm(tfidf, axis = 1, keepdims = True)\n",
        "tfidf"
      ]
    },
    {
      "cell_type": "markdown",
      "metadata": {
        "id": "WV3Z3nE1VYJO"
      },
      "source": [
        "### 모델 로드\n",
        "\n",
        "> 한국어 시퀀스 분류를 위한 Hugging Face 라이브러리에서 제공하는 미리 학습된 BERT 모델과 토크나이저를 초기화합니다. 모델은 \"klue/bert-base\" 모델에서 로드되고, 해당 모델 이름으로 토크나이저가 초기화됩니다. 이 모델은 입력 텍스트를 세 가지 가능한 라벨 중 하나로 분류하는 것을 목적으로 합니다.\n"
      ]
    },
    {
      "cell_type": "code",
      "execution_count": null,
      "metadata": {
        "colab": {
          "base_uri": "https://localhost:8080/"
        },
        "id": "THuACpNvUubc",
        "outputId": "9bc03b96-c91a-44a1-f8ab-72f8674a6a88"
      },
      "outputs": [
        {
          "output_type": "stream",
          "name": "stderr",
          "text": [
            "Some weights of the PyTorch model were not used when initializing the TF 2.0 model TFBertForSequenceClassification: ['bert.embeddings.position_ids']\n",
            "- This IS expected if you are initializing TFBertForSequenceClassification from a PyTorch model trained on another task or with another architecture (e.g. initializing a TFBertForSequenceClassification model from a BertForPreTraining model).\n",
            "- This IS NOT expected if you are initializing TFBertForSequenceClassification from a PyTorch model that you expect to be exactly identical (e.g. initializing a TFBertForSequenceClassification model from a BertForSequenceClassification model).\n",
            "Some weights or buffers of the TF 2.0 model TFBertForSequenceClassification were not initialized from the PyTorch model and are newly initialized: ['classifier.weight', 'classifier.bias']\n",
            "You should probably TRAIN this model on a down-stream task to be able to use it for predictions and inference.\n"
          ]
        }
      ],
      "source": [
        "MODEL_NAME = \"klue/bert-base\"\n",
        "model = TFBertForSequenceClassification.from_pretrained(MODEL_NAME, num_labels=3, from_pt=True)\n",
        "tokenizer = BertTokenizer.from_pretrained(MODEL_NAME)"
      ]
    },
    {
      "cell_type": "markdown",
      "metadata": {
        "id": "y66SD-l61xeM"
      },
      "source": [
        "### GPU 사용 여부 판단"
      ]
    },
    {
      "cell_type": "code",
      "execution_count": null,
      "metadata": {
        "colab": {
          "base_uri": "https://localhost:8080/",
          "height": 367
        },
        "id": "EVYgO6tyU2ZE",
        "outputId": "ee3c47f6-d266-4e6e-a6ee-bade5deedbb4"
      },
      "outputs": [
        {
          "output_type": "error",
          "ename": "AttributeError",
          "evalue": "ignored",
          "traceback": [
            "\u001b[0;31m---------------------------------------------------------------------------\u001b[0m",
            "\u001b[0;31mAttributeError\u001b[0m                            Traceback (most recent call last)",
            "\u001b[0;32m<ipython-input-10-942e2b41a4ae>\u001b[0m in \u001b[0;36m<cell line: 1>\u001b[0;34m()\u001b[0m\n\u001b[0;32m----> 1\u001b[0;31m \u001b[0mdevice_name\u001b[0m \u001b[0;34m=\u001b[0m \u001b[0mtf\u001b[0m\u001b[0;34m.\u001b[0m\u001b[0mtest\u001b[0m\u001b[0;34m.\u001b[0m\u001b[0mgpu_device_name\u001b[0m\u001b[0;34m(\u001b[0m\u001b[0;34m)\u001b[0m\u001b[0;34m\u001b[0m\u001b[0;34m\u001b[0m\u001b[0m\n\u001b[0m\u001b[1;32m      2\u001b[0m \u001b[0;34m\u001b[0m\u001b[0m\n\u001b[1;32m      3\u001b[0m \u001b[0;32mif\u001b[0m \u001b[0mdevice_name\u001b[0m \u001b[0;34m==\u001b[0m \u001b[0;34m'/device:GPU:0'\u001b[0m\u001b[0;34m:\u001b[0m\u001b[0;34m\u001b[0m\u001b[0;34m\u001b[0m\u001b[0m\n\u001b[1;32m      4\u001b[0m   \u001b[0mprint\u001b[0m\u001b[0;34m(\u001b[0m\u001b[0;34m\"GPU Used\"\u001b[0m\u001b[0;34m)\u001b[0m\u001b[0;34m\u001b[0m\u001b[0;34m\u001b[0m\u001b[0m\n\u001b[1;32m      5\u001b[0m   \u001b[0mmirrored_strategy\u001b[0m \u001b[0;34m=\u001b[0m \u001b[0mtf\u001b[0m\u001b[0;34m.\u001b[0m\u001b[0mdistribute\u001b[0m\u001b[0;34m.\u001b[0m\u001b[0mMirroredStrategy\u001b[0m\u001b[0;34m(\u001b[0m\u001b[0;34m)\u001b[0m\u001b[0;34m\u001b[0m\u001b[0;34m\u001b[0m\u001b[0m\n",
            "\u001b[0;32m/usr/local/lib/python3.10/dist-packages/pandas/core/generic.py\u001b[0m in \u001b[0;36m__getattr__\u001b[0;34m(self, name)\u001b[0m\n\u001b[1;32m   5900\u001b[0m         ):\n\u001b[1;32m   5901\u001b[0m             \u001b[0;32mreturn\u001b[0m \u001b[0mself\u001b[0m\u001b[0;34m[\u001b[0m\u001b[0mname\u001b[0m\u001b[0;34m]\u001b[0m\u001b[0;34m\u001b[0m\u001b[0;34m\u001b[0m\u001b[0m\n\u001b[0;32m-> 5902\u001b[0;31m         \u001b[0;32mreturn\u001b[0m \u001b[0mobject\u001b[0m\u001b[0;34m.\u001b[0m\u001b[0m__getattribute__\u001b[0m\u001b[0;34m(\u001b[0m\u001b[0mself\u001b[0m\u001b[0;34m,\u001b[0m \u001b[0mname\u001b[0m\u001b[0;34m)\u001b[0m\u001b[0;34m\u001b[0m\u001b[0;34m\u001b[0m\u001b[0m\n\u001b[0m\u001b[1;32m   5903\u001b[0m \u001b[0;34m\u001b[0m\u001b[0m\n\u001b[1;32m   5904\u001b[0m     \u001b[0;32mdef\u001b[0m \u001b[0m__setattr__\u001b[0m\u001b[0;34m(\u001b[0m\u001b[0mself\u001b[0m\u001b[0;34m,\u001b[0m \u001b[0mname\u001b[0m\u001b[0;34m:\u001b[0m \u001b[0mstr\u001b[0m\u001b[0;34m,\u001b[0m \u001b[0mvalue\u001b[0m\u001b[0;34m)\u001b[0m \u001b[0;34m->\u001b[0m \u001b[0;32mNone\u001b[0m\u001b[0;34m:\u001b[0m\u001b[0;34m\u001b[0m\u001b[0;34m\u001b[0m\u001b[0m\n",
            "\u001b[0;31mAttributeError\u001b[0m: 'DataFrame' object has no attribute 'test'"
          ]
        }
      ],
      "source": [
        "device_name = tf.test.gpu_device_name()\n",
        "\n",
        "if device_name == '/device:GPU:0':\n",
        "  print(\"GPU Used\")\n",
        "  mirrored_strategy = tf.distribute.MirroredStrategy()\n",
        "else:\n",
        "  print(\"GPU Not Used\")"
      ]
    },
    {
      "cell_type": "markdown",
      "metadata": {
        "id": "D_-UbcpeWu-j"
      },
      "source": [
        "### 데이터 수집 단계\n",
        "> 네이버 쇼핑 리뷰 데이터 (20만건) / 긍정&부정\n",
        ">> 20만건 중 1만건 추출하여 사용\n",
        ">>__[감성 분석용 말뭉치](https://github.com/bab2min/corpus/tree/master/sentiment)__"
      ]
    },
    {
      "cell_type": "code",
      "execution_count": null,
      "metadata": {
        "colab": {
          "base_uri": "https://localhost:8080/",
          "height": 441
        },
        "id": "CAI9qHWZWudu",
        "outputId": "8ccb1266-79c4-48c9-8b78-2fe306ef745f"
      },
      "outputs": [
        {
          "output_type": "stream",
          "name": "stdout",
          "text": [
            "Drive already mounted at /content/drive; to attempt to forcibly remount, call drive.mount(\"/content/drive\", force_remount=True).\n"
          ]
        },
        {
          "output_type": "display_data",
          "data": {
            "text/plain": [
              "      rating                                              title  \\\n",
              "0          5                                나만의 공간에서 나만을 위한 시간을   \n",
              "1          5                                 사용한 지 한 달째인데요. 웨이브   \n",
              "2          5  오.타.쿠.에게 최적화된 상품입니다 ..진짜 진짜 너무 편하고 … 출시된지 꽤 됐어...   \n",
              "3          5                               안방인테리어의 완성은 LG스탠바이미❤   \n",
              "4          5                               집에 스탠바이미를 설치한지 2개월 만   \n",
              "...      ...                                                ...   \n",
              "3155       3                               배송은 많이 늦었지만 제품은 좋습니다   \n",
              "3156       5                              이게 있어서 티비를 잘 안봐요ㅋ\\n밥먹   \n",
              "3157       5                     후회없는 탁월한 선택이었어요 활용도가 이리 좋을수가있을   \n",
              "3158       5                               아주만족핮니다..디즈니+도 잘보고 있   \n",
              "3159       4                               제품은 120% 만족하지만, 하이마트   \n",
              "\n",
              "                                               contents  \n",
              "0     나만의 공간에서 나만을 위한 시간을 함께하는 신개념 무선 프라이빗 스크린 LG 스탠...  \n",
              "1     사용한 지 한 달째인데요. 웨이브 등의 콘텐츠 무료 혜택이 아무 통지 없이 딱 한 ...  \n",
              "2     오.타.쿠.에게 최적화된 상품입니다 ..\\n진짜 진짜 너무 편하고 … 출시된지 꽤 ...  \n",
              "3     안방인테리어의 완성은 LG스탠바이미❤️\\n디자인 진짜 너무 예쁘고요, 앞모습 이쁜건...  \n",
              "4     집에 스탠바이미를 설치한지 2개월 만에 사무실에도 스탠바이미 한 대를 더 설치했습니...  \n",
              "...                                                 ...  \n",
              "3155     배송은 많이 늦었지만 제품은 좋습니다\\n\\n역시 단점은 화질이 조금 떨어지네요...  \n",
              "3156        이게 있어서 티비를 잘 안봐요ㅋ\\n밥먹을때 옆에 두고 보면서 먹으니 넘 좋아요  \n",
              "3157  후회없는 탁월한 선택이었어요\\n활용도가 이리 좋을수가있을까요\\n왜 후기와 만족도가 ...  \n",
              "3158  아주만족핮니다..디즈니+도 잘보고 있고 이동성도 편리해 가지고 다니면서 보내요......  \n",
              "3159  제품은 120% 만족하지만, 하이마트의 결제정책은 마음에 안드네요 ㅠ\\n8% 청구할...  \n",
              "\n",
              "[3160 rows x 3 columns]"
            ],
            "text/html": [
              "\n",
              "  <div id=\"df-3965c44a-76ea-43f9-9335-93e57148ef89\">\n",
              "    <div class=\"colab-df-container\">\n",
              "      <div>\n",
              "<style scoped>\n",
              "    .dataframe tbody tr th:only-of-type {\n",
              "        vertical-align: middle;\n",
              "    }\n",
              "\n",
              "    .dataframe tbody tr th {\n",
              "        vertical-align: top;\n",
              "    }\n",
              "\n",
              "    .dataframe thead th {\n",
              "        text-align: right;\n",
              "    }\n",
              "</style>\n",
              "<table border=\"1\" class=\"dataframe\">\n",
              "  <thead>\n",
              "    <tr style=\"text-align: right;\">\n",
              "      <th></th>\n",
              "      <th>rating</th>\n",
              "      <th>title</th>\n",
              "      <th>contents</th>\n",
              "    </tr>\n",
              "  </thead>\n",
              "  <tbody>\n",
              "    <tr>\n",
              "      <th>0</th>\n",
              "      <td>5</td>\n",
              "      <td>나만의 공간에서 나만을 위한 시간을</td>\n",
              "      <td>나만의 공간에서 나만을 위한 시간을 함께하는 신개념 무선 프라이빗 스크린 LG 스탠...</td>\n",
              "    </tr>\n",
              "    <tr>\n",
              "      <th>1</th>\n",
              "      <td>5</td>\n",
              "      <td>사용한 지 한 달째인데요. 웨이브</td>\n",
              "      <td>사용한 지 한 달째인데요. 웨이브 등의 콘텐츠 무료 혜택이 아무 통지 없이 딱 한 ...</td>\n",
              "    </tr>\n",
              "    <tr>\n",
              "      <th>2</th>\n",
              "      <td>5</td>\n",
              "      <td>오.타.쿠.에게 최적화된 상품입니다 ..진짜 진짜 너무 편하고 … 출시된지 꽤 됐어...</td>\n",
              "      <td>오.타.쿠.에게 최적화된 상품입니다 ..\\n진짜 진짜 너무 편하고 … 출시된지 꽤 ...</td>\n",
              "    </tr>\n",
              "    <tr>\n",
              "      <th>3</th>\n",
              "      <td>5</td>\n",
              "      <td>안방인테리어의 완성은 LG스탠바이미❤</td>\n",
              "      <td>안방인테리어의 완성은 LG스탠바이미❤️\\n디자인 진짜 너무 예쁘고요, 앞모습 이쁜건...</td>\n",
              "    </tr>\n",
              "    <tr>\n",
              "      <th>4</th>\n",
              "      <td>5</td>\n",
              "      <td>집에 스탠바이미를 설치한지 2개월 만</td>\n",
              "      <td>집에 스탠바이미를 설치한지 2개월 만에 사무실에도 스탠바이미 한 대를 더 설치했습니...</td>\n",
              "    </tr>\n",
              "    <tr>\n",
              "      <th>...</th>\n",
              "      <td>...</td>\n",
              "      <td>...</td>\n",
              "      <td>...</td>\n",
              "    </tr>\n",
              "    <tr>\n",
              "      <th>3155</th>\n",
              "      <td>3</td>\n",
              "      <td>배송은 많이 늦었지만 제품은 좋습니다</td>\n",
              "      <td>배송은 많이 늦었지만 제품은 좋습니다\\n\\n역시 단점은 화질이 조금 떨어지네요...</td>\n",
              "    </tr>\n",
              "    <tr>\n",
              "      <th>3156</th>\n",
              "      <td>5</td>\n",
              "      <td>이게 있어서 티비를 잘 안봐요ㅋ\\n밥먹</td>\n",
              "      <td>이게 있어서 티비를 잘 안봐요ㅋ\\n밥먹을때 옆에 두고 보면서 먹으니 넘 좋아요</td>\n",
              "    </tr>\n",
              "    <tr>\n",
              "      <th>3157</th>\n",
              "      <td>5</td>\n",
              "      <td>후회없는 탁월한 선택이었어요 활용도가 이리 좋을수가있을</td>\n",
              "      <td>후회없는 탁월한 선택이었어요\\n활용도가 이리 좋을수가있을까요\\n왜 후기와 만족도가 ...</td>\n",
              "    </tr>\n",
              "    <tr>\n",
              "      <th>3158</th>\n",
              "      <td>5</td>\n",
              "      <td>아주만족핮니다..디즈니+도 잘보고 있</td>\n",
              "      <td>아주만족핮니다..디즈니+도 잘보고 있고 이동성도 편리해 가지고 다니면서 보내요......</td>\n",
              "    </tr>\n",
              "    <tr>\n",
              "      <th>3159</th>\n",
              "      <td>4</td>\n",
              "      <td>제품은 120% 만족하지만, 하이마트</td>\n",
              "      <td>제품은 120% 만족하지만, 하이마트의 결제정책은 마음에 안드네요 ㅠ\\n8% 청구할...</td>\n",
              "    </tr>\n",
              "  </tbody>\n",
              "</table>\n",
              "<p>3160 rows × 3 columns</p>\n",
              "</div>\n",
              "      <button class=\"colab-df-convert\" onclick=\"convertToInteractive('df-3965c44a-76ea-43f9-9335-93e57148ef89')\"\n",
              "              title=\"Convert this dataframe to an interactive table.\"\n",
              "              style=\"display:none;\">\n",
              "        \n",
              "  <svg xmlns=\"http://www.w3.org/2000/svg\" height=\"24px\"viewBox=\"0 0 24 24\"\n",
              "       width=\"24px\">\n",
              "    <path d=\"M0 0h24v24H0V0z\" fill=\"none\"/>\n",
              "    <path d=\"M18.56 5.44l.94 2.06.94-2.06 2.06-.94-2.06-.94-.94-2.06-.94 2.06-2.06.94zm-11 1L8.5 8.5l.94-2.06 2.06-.94-2.06-.94L8.5 2.5l-.94 2.06-2.06.94zm10 10l.94 2.06.94-2.06 2.06-.94-2.06-.94-.94-2.06-.94 2.06-2.06.94z\"/><path d=\"M17.41 7.96l-1.37-1.37c-.4-.4-.92-.59-1.43-.59-.52 0-1.04.2-1.43.59L10.3 9.45l-7.72 7.72c-.78.78-.78 2.05 0 2.83L4 21.41c.39.39.9.59 1.41.59.51 0 1.02-.2 1.41-.59l7.78-7.78 2.81-2.81c.8-.78.8-2.07 0-2.86zM5.41 20L4 18.59l7.72-7.72 1.47 1.35L5.41 20z\"/>\n",
              "  </svg>\n",
              "      </button>\n",
              "      \n",
              "  <style>\n",
              "    .colab-df-container {\n",
              "      display:flex;\n",
              "      flex-wrap:wrap;\n",
              "      gap: 12px;\n",
              "    }\n",
              "\n",
              "    .colab-df-convert {\n",
              "      background-color: #E8F0FE;\n",
              "      border: none;\n",
              "      border-radius: 50%;\n",
              "      cursor: pointer;\n",
              "      display: none;\n",
              "      fill: #1967D2;\n",
              "      height: 32px;\n",
              "      padding: 0 0 0 0;\n",
              "      width: 32px;\n",
              "    }\n",
              "\n",
              "    .colab-df-convert:hover {\n",
              "      background-color: #E2EBFA;\n",
              "      box-shadow: 0px 1px 2px rgba(60, 64, 67, 0.3), 0px 1px 3px 1px rgba(60, 64, 67, 0.15);\n",
              "      fill: #174EA6;\n",
              "    }\n",
              "\n",
              "    [theme=dark] .colab-df-convert {\n",
              "      background-color: #3B4455;\n",
              "      fill: #D2E3FC;\n",
              "    }\n",
              "\n",
              "    [theme=dark] .colab-df-convert:hover {\n",
              "      background-color: #434B5C;\n",
              "      box-shadow: 0px 1px 3px 1px rgba(0, 0, 0, 0.15);\n",
              "      filter: drop-shadow(0px 1px 2px rgba(0, 0, 0, 0.3));\n",
              "      fill: #FFFFFF;\n",
              "    }\n",
              "  </style>\n",
              "\n",
              "      <script>\n",
              "        const buttonEl =\n",
              "          document.querySelector('#df-3965c44a-76ea-43f9-9335-93e57148ef89 button.colab-df-convert');\n",
              "        buttonEl.style.display =\n",
              "          google.colab.kernel.accessAllowed ? 'block' : 'none';\n",
              "\n",
              "        async function convertToInteractive(key) {\n",
              "          const element = document.querySelector('#df-3965c44a-76ea-43f9-9335-93e57148ef89');\n",
              "          const dataTable =\n",
              "            await google.colab.kernel.invokeFunction('convertToInteractive',\n",
              "                                                     [key], {});\n",
              "          if (!dataTable) return;\n",
              "\n",
              "          const docLinkHtml = 'Like what you see? Visit the ' +\n",
              "            '<a target=\"_blank\" href=https://colab.research.google.com/notebooks/data_table.ipynb>data table notebook</a>'\n",
              "            + ' to learn more about interactive tables.';\n",
              "          element.innerHTML = '';\n",
              "          dataTable['output_type'] = 'display_data';\n",
              "          await google.colab.output.renderOutput(dataTable, element);\n",
              "          const docLink = document.createElement('div');\n",
              "          docLink.innerHTML = docLinkHtml;\n",
              "          element.appendChild(docLink);\n",
              "        }\n",
              "      </script>\n",
              "    </div>\n",
              "  </div>\n",
              "  "
            ]
          },
          "metadata": {}
        }
      ],
      "source": [
        "drive.mount('/content/drive')\n",
        "\n",
        "# Crawling Data Excel import\n",
        "dataset = pd.read_excel('/content/drive/MyDrive/reviews.xlsx')\n",
        "display(dataset)"
      ]
    },
    {
      "cell_type": "markdown",
      "metadata": {
        "id": "dFb7aCJ4XiAb"
      },
      "source": [
        "### [데이터 수집 단계] - 긍정/부정 분류\n",
        "\n",
        "> Rating(별점)을 기준으로 긍정/부정을 분류하는 작업\n",
        ">> setiment 컬럼이 생성되어 positive(1), negative(0)이 저장된다."
      ]
    },
    {
      "cell_type": "code",
      "execution_count": null,
      "metadata": {
        "colab": {
          "base_uri": "https://localhost:8080/",
          "height": 467
        },
        "id": "Y-MEcDneXg6o",
        "outputId": "ce11e718-cd9a-4dfd-e7ea-f91372ac3511"
      },
      "outputs": [
        {
          "output_type": "display_data",
          "data": {
            "text/plain": [
              "      rating                                              title  \\\n",
              "0          5                                나만의 공간에서 나만을 위한 시간을   \n",
              "1          5                                 사용한 지 한 달째인데요. 웨이브   \n",
              "2          5  오.타.쿠.에게 최적화된 상품입니다 ..진짜 진짜 너무 편하고 … 출시된지 꽤 됐어...   \n",
              "3          5                               안방인테리어의 완성은 LG스탠바이미❤   \n",
              "4          5                               집에 스탠바이미를 설치한지 2개월 만   \n",
              "...      ...                                                ...   \n",
              "3155       3                               배송은 많이 늦었지만 제품은 좋습니다   \n",
              "3156       5                              이게 있어서 티비를 잘 안봐요ㅋ\\n밥먹   \n",
              "3157       5                     후회없는 탁월한 선택이었어요 활용도가 이리 좋을수가있을   \n",
              "3158       5                               아주만족핮니다..디즈니+도 잘보고 있   \n",
              "3159       4                               제품은 120% 만족하지만, 하이마트   \n",
              "\n",
              "                                               contents  sentiment  \n",
              "0     나만의 공간에서 나만을 위한 시간을 함께하는 신개념 무선 프라이빗 스크린 LG 스탠...          1  \n",
              "1     사용한 지 한 달째인데요. 웨이브 등의 콘텐츠 무료 혜택이 아무 통지 없이 딱 한 ...          1  \n",
              "2     오.타.쿠.에게 최적화된 상품입니다 ..\\n진짜 진짜 너무 편하고 … 출시된지 꽤 ...          1  \n",
              "3     안방인테리어의 완성은 LG스탠바이미❤️\\n디자인 진짜 너무 예쁘고요, 앞모습 이쁜건...          1  \n",
              "4     집에 스탠바이미를 설치한지 2개월 만에 사무실에도 스탠바이미 한 대를 더 설치했습니...          1  \n",
              "...                                                 ...        ...  \n",
              "3155     배송은 많이 늦었지만 제품은 좋습니다\\n\\n역시 단점은 화질이 조금 떨어지네요...          0  \n",
              "3156        이게 있어서 티비를 잘 안봐요ㅋ\\n밥먹을때 옆에 두고 보면서 먹으니 넘 좋아요          1  \n",
              "3157  후회없는 탁월한 선택이었어요\\n활용도가 이리 좋을수가있을까요\\n왜 후기와 만족도가 ...          1  \n",
              "3158  아주만족핮니다..디즈니+도 잘보고 있고 이동성도 편리해 가지고 다니면서 보내요......          1  \n",
              "3159  제품은 120% 만족하지만, 하이마트의 결제정책은 마음에 안드네요 ㅠ\\n8% 청구할...          1  \n",
              "\n",
              "[3160 rows x 4 columns]"
            ],
            "text/html": [
              "\n",
              "  <div id=\"df-6da7ce7f-4edb-4b22-802a-56accfdb7512\">\n",
              "    <div class=\"colab-df-container\">\n",
              "      <div>\n",
              "<style scoped>\n",
              "    .dataframe tbody tr th:only-of-type {\n",
              "        vertical-align: middle;\n",
              "    }\n",
              "\n",
              "    .dataframe tbody tr th {\n",
              "        vertical-align: top;\n",
              "    }\n",
              "\n",
              "    .dataframe thead th {\n",
              "        text-align: right;\n",
              "    }\n",
              "</style>\n",
              "<table border=\"1\" class=\"dataframe\">\n",
              "  <thead>\n",
              "    <tr style=\"text-align: right;\">\n",
              "      <th></th>\n",
              "      <th>rating</th>\n",
              "      <th>title</th>\n",
              "      <th>contents</th>\n",
              "      <th>sentiment</th>\n",
              "    </tr>\n",
              "  </thead>\n",
              "  <tbody>\n",
              "    <tr>\n",
              "      <th>0</th>\n",
              "      <td>5</td>\n",
              "      <td>나만의 공간에서 나만을 위한 시간을</td>\n",
              "      <td>나만의 공간에서 나만을 위한 시간을 함께하는 신개념 무선 프라이빗 스크린 LG 스탠...</td>\n",
              "      <td>1</td>\n",
              "    </tr>\n",
              "    <tr>\n",
              "      <th>1</th>\n",
              "      <td>5</td>\n",
              "      <td>사용한 지 한 달째인데요. 웨이브</td>\n",
              "      <td>사용한 지 한 달째인데요. 웨이브 등의 콘텐츠 무료 혜택이 아무 통지 없이 딱 한 ...</td>\n",
              "      <td>1</td>\n",
              "    </tr>\n",
              "    <tr>\n",
              "      <th>2</th>\n",
              "      <td>5</td>\n",
              "      <td>오.타.쿠.에게 최적화된 상품입니다 ..진짜 진짜 너무 편하고 … 출시된지 꽤 됐어...</td>\n",
              "      <td>오.타.쿠.에게 최적화된 상품입니다 ..\\n진짜 진짜 너무 편하고 … 출시된지 꽤 ...</td>\n",
              "      <td>1</td>\n",
              "    </tr>\n",
              "    <tr>\n",
              "      <th>3</th>\n",
              "      <td>5</td>\n",
              "      <td>안방인테리어의 완성은 LG스탠바이미❤</td>\n",
              "      <td>안방인테리어의 완성은 LG스탠바이미❤️\\n디자인 진짜 너무 예쁘고요, 앞모습 이쁜건...</td>\n",
              "      <td>1</td>\n",
              "    </tr>\n",
              "    <tr>\n",
              "      <th>4</th>\n",
              "      <td>5</td>\n",
              "      <td>집에 스탠바이미를 설치한지 2개월 만</td>\n",
              "      <td>집에 스탠바이미를 설치한지 2개월 만에 사무실에도 스탠바이미 한 대를 더 설치했습니...</td>\n",
              "      <td>1</td>\n",
              "    </tr>\n",
              "    <tr>\n",
              "      <th>...</th>\n",
              "      <td>...</td>\n",
              "      <td>...</td>\n",
              "      <td>...</td>\n",
              "      <td>...</td>\n",
              "    </tr>\n",
              "    <tr>\n",
              "      <th>3155</th>\n",
              "      <td>3</td>\n",
              "      <td>배송은 많이 늦었지만 제품은 좋습니다</td>\n",
              "      <td>배송은 많이 늦었지만 제품은 좋습니다\\n\\n역시 단점은 화질이 조금 떨어지네요...</td>\n",
              "      <td>0</td>\n",
              "    </tr>\n",
              "    <tr>\n",
              "      <th>3156</th>\n",
              "      <td>5</td>\n",
              "      <td>이게 있어서 티비를 잘 안봐요ㅋ\\n밥먹</td>\n",
              "      <td>이게 있어서 티비를 잘 안봐요ㅋ\\n밥먹을때 옆에 두고 보면서 먹으니 넘 좋아요</td>\n",
              "      <td>1</td>\n",
              "    </tr>\n",
              "    <tr>\n",
              "      <th>3157</th>\n",
              "      <td>5</td>\n",
              "      <td>후회없는 탁월한 선택이었어요 활용도가 이리 좋을수가있을</td>\n",
              "      <td>후회없는 탁월한 선택이었어요\\n활용도가 이리 좋을수가있을까요\\n왜 후기와 만족도가 ...</td>\n",
              "      <td>1</td>\n",
              "    </tr>\n",
              "    <tr>\n",
              "      <th>3158</th>\n",
              "      <td>5</td>\n",
              "      <td>아주만족핮니다..디즈니+도 잘보고 있</td>\n",
              "      <td>아주만족핮니다..디즈니+도 잘보고 있고 이동성도 편리해 가지고 다니면서 보내요......</td>\n",
              "      <td>1</td>\n",
              "    </tr>\n",
              "    <tr>\n",
              "      <th>3159</th>\n",
              "      <td>4</td>\n",
              "      <td>제품은 120% 만족하지만, 하이마트</td>\n",
              "      <td>제품은 120% 만족하지만, 하이마트의 결제정책은 마음에 안드네요 ㅠ\\n8% 청구할...</td>\n",
              "      <td>1</td>\n",
              "    </tr>\n",
              "  </tbody>\n",
              "</table>\n",
              "<p>3160 rows × 4 columns</p>\n",
              "</div>\n",
              "      <button class=\"colab-df-convert\" onclick=\"convertToInteractive('df-6da7ce7f-4edb-4b22-802a-56accfdb7512')\"\n",
              "              title=\"Convert this dataframe to an interactive table.\"\n",
              "              style=\"display:none;\">\n",
              "        \n",
              "  <svg xmlns=\"http://www.w3.org/2000/svg\" height=\"24px\"viewBox=\"0 0 24 24\"\n",
              "       width=\"24px\">\n",
              "    <path d=\"M0 0h24v24H0V0z\" fill=\"none\"/>\n",
              "    <path d=\"M18.56 5.44l.94 2.06.94-2.06 2.06-.94-2.06-.94-.94-2.06-.94 2.06-2.06.94zm-11 1L8.5 8.5l.94-2.06 2.06-.94-2.06-.94L8.5 2.5l-.94 2.06-2.06.94zm10 10l.94 2.06.94-2.06 2.06-.94-2.06-.94-.94-2.06-.94 2.06-2.06.94z\"/><path d=\"M17.41 7.96l-1.37-1.37c-.4-.4-.92-.59-1.43-.59-.52 0-1.04.2-1.43.59L10.3 9.45l-7.72 7.72c-.78.78-.78 2.05 0 2.83L4 21.41c.39.39.9.59 1.41.59.51 0 1.02-.2 1.41-.59l7.78-7.78 2.81-2.81c.8-.78.8-2.07 0-2.86zM5.41 20L4 18.59l7.72-7.72 1.47 1.35L5.41 20z\"/>\n",
              "  </svg>\n",
              "      </button>\n",
              "      \n",
              "  <style>\n",
              "    .colab-df-container {\n",
              "      display:flex;\n",
              "      flex-wrap:wrap;\n",
              "      gap: 12px;\n",
              "    }\n",
              "\n",
              "    .colab-df-convert {\n",
              "      background-color: #E8F0FE;\n",
              "      border: none;\n",
              "      border-radius: 50%;\n",
              "      cursor: pointer;\n",
              "      display: none;\n",
              "      fill: #1967D2;\n",
              "      height: 32px;\n",
              "      padding: 0 0 0 0;\n",
              "      width: 32px;\n",
              "    }\n",
              "\n",
              "    .colab-df-convert:hover {\n",
              "      background-color: #E2EBFA;\n",
              "      box-shadow: 0px 1px 2px rgba(60, 64, 67, 0.3), 0px 1px 3px 1px rgba(60, 64, 67, 0.15);\n",
              "      fill: #174EA6;\n",
              "    }\n",
              "\n",
              "    [theme=dark] .colab-df-convert {\n",
              "      background-color: #3B4455;\n",
              "      fill: #D2E3FC;\n",
              "    }\n",
              "\n",
              "    [theme=dark] .colab-df-convert:hover {\n",
              "      background-color: #434B5C;\n",
              "      box-shadow: 0px 1px 3px 1px rgba(0, 0, 0, 0.15);\n",
              "      filter: drop-shadow(0px 1px 2px rgba(0, 0, 0, 0.3));\n",
              "      fill: #FFFFFF;\n",
              "    }\n",
              "  </style>\n",
              "\n",
              "      <script>\n",
              "        const buttonEl =\n",
              "          document.querySelector('#df-6da7ce7f-4edb-4b22-802a-56accfdb7512 button.colab-df-convert');\n",
              "        buttonEl.style.display =\n",
              "          google.colab.kernel.accessAllowed ? 'block' : 'none';\n",
              "\n",
              "        async function convertToInteractive(key) {\n",
              "          const element = document.querySelector('#df-6da7ce7f-4edb-4b22-802a-56accfdb7512');\n",
              "          const dataTable =\n",
              "            await google.colab.kernel.invokeFunction('convertToInteractive',\n",
              "                                                     [key], {});\n",
              "          if (!dataTable) return;\n",
              "\n",
              "          const docLinkHtml = 'Like what you see? Visit the ' +\n",
              "            '<a target=\"_blank\" href=https://colab.research.google.com/notebooks/data_table.ipynb>data table notebook</a>'\n",
              "            + ' to learn more about interactive tables.';\n",
              "          element.innerHTML = '';\n",
              "          dataTable['output_type'] = 'display_data';\n",
              "          await google.colab.output.renderOutput(dataTable, element);\n",
              "          const docLink = document.createElement('div');\n",
              "          docLink.innerHTML = docLinkHtml;\n",
              "          element.appendChild(docLink);\n",
              "        }\n",
              "      </script>\n",
              "    </div>\n",
              "  </div>\n",
              "  "
            ]
          },
          "metadata": {}
        }
      ],
      "source": [
        "# classify reviews into negative(0) and positive(1) based on rating\n",
        "dataset['sentiment'] = dataset['rating'].apply(lambda x: 1 if x >= 4 else 0)\n",
        "display(dataset)"
      ]
    },
    {
      "cell_type": "markdown",
      "metadata": {
        "id": "Sa3JesbJ9q1A"
      },
      "source": [
        "### [데이터 전처리 단계] - 결측치, 중복 데이터 확인\n",
        "> pandas를 활용하여 데이터 전처리 과정을 수행하는 코드입니다.\n",
        "`dataset.info()` : 데이터프레임의 정보를 출력합니다.\n",
        "`dataset[dataset['contents'].duplicated()]` : 중복된 데이터를 찾아 출력합니다.\n",
        "`dataset.drop_duplicates(subset = ['contents'], inplace = True)` : 중복된 데이터를 제거합니다.\n",
        "\n",
        "\n",
        ">> 이러한 데이터 전처리 과정은, 중복된 데이터가 있을 경우 정확한 모델을 학습시키기 어렵기 때문에 중요합니다.\n",
        "따라서 중복된 데이터를 찾고, 이를 제거하는 과정이 필요합니다."
      ]
    },
    {
      "cell_type": "code",
      "execution_count": null,
      "metadata": {
        "colab": {
          "base_uri": "https://localhost:8080/",
          "height": 664
        },
        "id": "e3j6KompcZoa",
        "outputId": "1700c8a6-0cb2-4308-d4fc-65580ae40661"
      },
      "outputs": [
        {
          "output_type": "stream",
          "name": "stdout",
          "text": [
            "<class 'pandas.core.frame.DataFrame'>\n",
            "RangeIndex: 3160 entries, 0 to 3159\n",
            "Data columns (total 4 columns):\n",
            " #   Column     Non-Null Count  Dtype \n",
            "---  ------     --------------  ----- \n",
            " 0   rating     3160 non-null   int64 \n",
            " 1   title      3160 non-null   object\n",
            " 2   contents   3160 non-null   object\n",
            " 3   sentiment  3160 non-null   int64 \n",
            "dtypes: int64(2), object(2)\n",
            "memory usage: 98.9+ KB\n"
          ]
        },
        {
          "output_type": "display_data",
          "data": {
            "text/plain": [
              "      rating                                              title  \\\n",
              "0          5                                나만의 공간에서 나만을 위한 시간을   \n",
              "1          5                                 사용한 지 한 달째인데요. 웨이브   \n",
              "2          5  오.타.쿠.에게 최적화된 상품입니다 ..진짜 진짜 너무 편하고 … 출시된지 꽤 됐어...   \n",
              "3          5                               안방인테리어의 완성은 LG스탠바이미❤   \n",
              "4          5                               집에 스탠바이미를 설치한지 2개월 만   \n",
              "...      ...                                                ...   \n",
              "1995       3                               배송은 많이 늦었지만 제품은 좋습니다   \n",
              "1996       5                              이게 있어서 티비를 잘 안봐요ㅋ\\n밥먹   \n",
              "1997       5                     후회없는 탁월한 선택이었어요 활용도가 이리 좋을수가있을   \n",
              "1998       5                               아주만족핮니다..디즈니+도 잘보고 있   \n",
              "1999       4                               제품은 120% 만족하지만, 하이마트   \n",
              "\n",
              "                                               contents  sentiment  \n",
              "0     나만의 공간에서 나만을 위한 시간을 함께하는 신개념 무선 프라이빗 스크린 LG 스탠...          1  \n",
              "1     사용한 지 한 달째인데요. 웨이브 등의 콘텐츠 무료 혜택이 아무 통지 없이 딱 한 ...          1  \n",
              "2     오.타.쿠.에게 최적화된 상품입니다 ..\\n진짜 진짜 너무 편하고 … 출시된지 꽤 ...          1  \n",
              "3     안방인테리어의 완성은 LG스탠바이미❤️\\n디자인 진짜 너무 예쁘고요, 앞모습 이쁜건...          1  \n",
              "4     집에 스탠바이미를 설치한지 2개월 만에 사무실에도 스탠바이미 한 대를 더 설치했습니...          1  \n",
              "...                                                 ...        ...  \n",
              "1995     배송은 많이 늦었지만 제품은 좋습니다\\n\\n역시 단점은 화질이 조금 떨어지네요...          0  \n",
              "1996        이게 있어서 티비를 잘 안봐요ㅋ\\n밥먹을때 옆에 두고 보면서 먹으니 넘 좋아요          1  \n",
              "1997  후회없는 탁월한 선택이었어요\\n활용도가 이리 좋을수가있을까요\\n왜 후기와 만족도가 ...          1  \n",
              "1998  아주만족핮니다..디즈니+도 잘보고 있고 이동성도 편리해 가지고 다니면서 보내요......          1  \n",
              "1999  제품은 120% 만족하지만, 하이마트의 결제정책은 마음에 안드네요 ㅠ\\n8% 청구할...          1  \n",
              "\n",
              "[1997 rows x 4 columns]"
            ],
            "text/html": [
              "\n",
              "  <div id=\"df-8b15d2a4-7d3c-4e78-95c2-da05d0b7bc37\">\n",
              "    <div class=\"colab-df-container\">\n",
              "      <div>\n",
              "<style scoped>\n",
              "    .dataframe tbody tr th:only-of-type {\n",
              "        vertical-align: middle;\n",
              "    }\n",
              "\n",
              "    .dataframe tbody tr th {\n",
              "        vertical-align: top;\n",
              "    }\n",
              "\n",
              "    .dataframe thead th {\n",
              "        text-align: right;\n",
              "    }\n",
              "</style>\n",
              "<table border=\"1\" class=\"dataframe\">\n",
              "  <thead>\n",
              "    <tr style=\"text-align: right;\">\n",
              "      <th></th>\n",
              "      <th>rating</th>\n",
              "      <th>title</th>\n",
              "      <th>contents</th>\n",
              "      <th>sentiment</th>\n",
              "    </tr>\n",
              "  </thead>\n",
              "  <tbody>\n",
              "    <tr>\n",
              "      <th>0</th>\n",
              "      <td>5</td>\n",
              "      <td>나만의 공간에서 나만을 위한 시간을</td>\n",
              "      <td>나만의 공간에서 나만을 위한 시간을 함께하는 신개념 무선 프라이빗 스크린 LG 스탠...</td>\n",
              "      <td>1</td>\n",
              "    </tr>\n",
              "    <tr>\n",
              "      <th>1</th>\n",
              "      <td>5</td>\n",
              "      <td>사용한 지 한 달째인데요. 웨이브</td>\n",
              "      <td>사용한 지 한 달째인데요. 웨이브 등의 콘텐츠 무료 혜택이 아무 통지 없이 딱 한 ...</td>\n",
              "      <td>1</td>\n",
              "    </tr>\n",
              "    <tr>\n",
              "      <th>2</th>\n",
              "      <td>5</td>\n",
              "      <td>오.타.쿠.에게 최적화된 상품입니다 ..진짜 진짜 너무 편하고 … 출시된지 꽤 됐어...</td>\n",
              "      <td>오.타.쿠.에게 최적화된 상품입니다 ..\\n진짜 진짜 너무 편하고 … 출시된지 꽤 ...</td>\n",
              "      <td>1</td>\n",
              "    </tr>\n",
              "    <tr>\n",
              "      <th>3</th>\n",
              "      <td>5</td>\n",
              "      <td>안방인테리어의 완성은 LG스탠바이미❤</td>\n",
              "      <td>안방인테리어의 완성은 LG스탠바이미❤️\\n디자인 진짜 너무 예쁘고요, 앞모습 이쁜건...</td>\n",
              "      <td>1</td>\n",
              "    </tr>\n",
              "    <tr>\n",
              "      <th>4</th>\n",
              "      <td>5</td>\n",
              "      <td>집에 스탠바이미를 설치한지 2개월 만</td>\n",
              "      <td>집에 스탠바이미를 설치한지 2개월 만에 사무실에도 스탠바이미 한 대를 더 설치했습니...</td>\n",
              "      <td>1</td>\n",
              "    </tr>\n",
              "    <tr>\n",
              "      <th>...</th>\n",
              "      <td>...</td>\n",
              "      <td>...</td>\n",
              "      <td>...</td>\n",
              "      <td>...</td>\n",
              "    </tr>\n",
              "    <tr>\n",
              "      <th>1995</th>\n",
              "      <td>3</td>\n",
              "      <td>배송은 많이 늦었지만 제품은 좋습니다</td>\n",
              "      <td>배송은 많이 늦었지만 제품은 좋습니다\\n\\n역시 단점은 화질이 조금 떨어지네요...</td>\n",
              "      <td>0</td>\n",
              "    </tr>\n",
              "    <tr>\n",
              "      <th>1996</th>\n",
              "      <td>5</td>\n",
              "      <td>이게 있어서 티비를 잘 안봐요ㅋ\\n밥먹</td>\n",
              "      <td>이게 있어서 티비를 잘 안봐요ㅋ\\n밥먹을때 옆에 두고 보면서 먹으니 넘 좋아요</td>\n",
              "      <td>1</td>\n",
              "    </tr>\n",
              "    <tr>\n",
              "      <th>1997</th>\n",
              "      <td>5</td>\n",
              "      <td>후회없는 탁월한 선택이었어요 활용도가 이리 좋을수가있을</td>\n",
              "      <td>후회없는 탁월한 선택이었어요\\n활용도가 이리 좋을수가있을까요\\n왜 후기와 만족도가 ...</td>\n",
              "      <td>1</td>\n",
              "    </tr>\n",
              "    <tr>\n",
              "      <th>1998</th>\n",
              "      <td>5</td>\n",
              "      <td>아주만족핮니다..디즈니+도 잘보고 있</td>\n",
              "      <td>아주만족핮니다..디즈니+도 잘보고 있고 이동성도 편리해 가지고 다니면서 보내요......</td>\n",
              "      <td>1</td>\n",
              "    </tr>\n",
              "    <tr>\n",
              "      <th>1999</th>\n",
              "      <td>4</td>\n",
              "      <td>제품은 120% 만족하지만, 하이마트</td>\n",
              "      <td>제품은 120% 만족하지만, 하이마트의 결제정책은 마음에 안드네요 ㅠ\\n8% 청구할...</td>\n",
              "      <td>1</td>\n",
              "    </tr>\n",
              "  </tbody>\n",
              "</table>\n",
              "<p>1997 rows × 4 columns</p>\n",
              "</div>\n",
              "      <button class=\"colab-df-convert\" onclick=\"convertToInteractive('df-8b15d2a4-7d3c-4e78-95c2-da05d0b7bc37')\"\n",
              "              title=\"Convert this dataframe to an interactive table.\"\n",
              "              style=\"display:none;\">\n",
              "        \n",
              "  <svg xmlns=\"http://www.w3.org/2000/svg\" height=\"24px\"viewBox=\"0 0 24 24\"\n",
              "       width=\"24px\">\n",
              "    <path d=\"M0 0h24v24H0V0z\" fill=\"none\"/>\n",
              "    <path d=\"M18.56 5.44l.94 2.06.94-2.06 2.06-.94-2.06-.94-.94-2.06-.94 2.06-2.06.94zm-11 1L8.5 8.5l.94-2.06 2.06-.94-2.06-.94L8.5 2.5l-.94 2.06-2.06.94zm10 10l.94 2.06.94-2.06 2.06-.94-2.06-.94-.94-2.06-.94 2.06-2.06.94z\"/><path d=\"M17.41 7.96l-1.37-1.37c-.4-.4-.92-.59-1.43-.59-.52 0-1.04.2-1.43.59L10.3 9.45l-7.72 7.72c-.78.78-.78 2.05 0 2.83L4 21.41c.39.39.9.59 1.41.59.51 0 1.02-.2 1.41-.59l7.78-7.78 2.81-2.81c.8-.78.8-2.07 0-2.86zM5.41 20L4 18.59l7.72-7.72 1.47 1.35L5.41 20z\"/>\n",
              "  </svg>\n",
              "      </button>\n",
              "      \n",
              "  <style>\n",
              "    .colab-df-container {\n",
              "      display:flex;\n",
              "      flex-wrap:wrap;\n",
              "      gap: 12px;\n",
              "    }\n",
              "\n",
              "    .colab-df-convert {\n",
              "      background-color: #E8F0FE;\n",
              "      border: none;\n",
              "      border-radius: 50%;\n",
              "      cursor: pointer;\n",
              "      display: none;\n",
              "      fill: #1967D2;\n",
              "      height: 32px;\n",
              "      padding: 0 0 0 0;\n",
              "      width: 32px;\n",
              "    }\n",
              "\n",
              "    .colab-df-convert:hover {\n",
              "      background-color: #E2EBFA;\n",
              "      box-shadow: 0px 1px 2px rgba(60, 64, 67, 0.3), 0px 1px 3px 1px rgba(60, 64, 67, 0.15);\n",
              "      fill: #174EA6;\n",
              "    }\n",
              "\n",
              "    [theme=dark] .colab-df-convert {\n",
              "      background-color: #3B4455;\n",
              "      fill: #D2E3FC;\n",
              "    }\n",
              "\n",
              "    [theme=dark] .colab-df-convert:hover {\n",
              "      background-color: #434B5C;\n",
              "      box-shadow: 0px 1px 3px 1px rgba(0, 0, 0, 0.15);\n",
              "      filter: drop-shadow(0px 1px 2px rgba(0, 0, 0, 0.3));\n",
              "      fill: #FFFFFF;\n",
              "    }\n",
              "  </style>\n",
              "\n",
              "      <script>\n",
              "        const buttonEl =\n",
              "          document.querySelector('#df-8b15d2a4-7d3c-4e78-95c2-da05d0b7bc37 button.colab-df-convert');\n",
              "        buttonEl.style.display =\n",
              "          google.colab.kernel.accessAllowed ? 'block' : 'none';\n",
              "\n",
              "        async function convertToInteractive(key) {\n",
              "          const element = document.querySelector('#df-8b15d2a4-7d3c-4e78-95c2-da05d0b7bc37');\n",
              "          const dataTable =\n",
              "            await google.colab.kernel.invokeFunction('convertToInteractive',\n",
              "                                                     [key], {});\n",
              "          if (!dataTable) return;\n",
              "\n",
              "          const docLinkHtml = 'Like what you see? Visit the ' +\n",
              "            '<a target=\"_blank\" href=https://colab.research.google.com/notebooks/data_table.ipynb>data table notebook</a>'\n",
              "            + ' to learn more about interactive tables.';\n",
              "          element.innerHTML = '';\n",
              "          dataTable['output_type'] = 'display_data';\n",
              "          await google.colab.output.renderOutput(dataTable, element);\n",
              "          const docLink = document.createElement('div');\n",
              "          docLink.innerHTML = docLinkHtml;\n",
              "          element.appendChild(docLink);\n",
              "        }\n",
              "      </script>\n",
              "    </div>\n",
              "  </div>\n",
              "  "
            ]
          },
          "metadata": {}
        }
      ],
      "source": [
        "dataset.info()\n",
        "dataset[dataset['contents'].duplicated()]\n",
        "\n",
        "dataset.drop_duplicates(subset = ['contents'], inplace = True)\n",
        "display(dataset)"
      ]
    },
    {
      "cell_type": "markdown",
      "metadata": {
        "id": "QpOoTGDwhRwB"
      },
      "source": [
        "### Sentiment 분포 그래프\n",
        "> 'dataset' Pandas DataFrame의 'sentiment' 컬럼 값의 빈도수를 바 차트로 시각화합니다. `value_counts()` 메소드는 'sentiment' 컬럼 내 고유값의 개수를 담은 Pandas Series 객체를 반환합니다. 이 Series 객체에 `plot()` 메소드가 호출되어 바 차트가 생성됩니다. x축 레이블은 \"Label\"로, y축 레이블은 \"Number\"로 설정됩니다.\n",
        "\n",
        ">> 라벨별 데이터 분포를 막대 그래프로 시각화합니다."
      ]
    },
    {
      "cell_type": "code",
      "execution_count": null,
      "metadata": {
        "colab": {
          "base_uri": "https://localhost:8080/",
          "height": 462
        },
        "id": "9XsAEaO6hCHD",
        "outputId": "9b53f2e8-1b77-4e5c-92a1-ec2252543cfc"
      },
      "outputs": [
        {
          "output_type": "execute_result",
          "data": {
            "text/plain": [
              "Text(0, 0.5, 'Number')"
            ]
          },
          "metadata": {},
          "execution_count": 7
        },
        {
          "output_type": "display_data",
          "data": {
            "text/plain": [
              "<Figure size 640x480 with 1 Axes>"
            ],
            "image/png": "[encoded data removed]"
          },
          "metadata": {}
        }
      ],
      "source": [
        "dataset['sentiment'].value_counts().plot(kind = 'bar')\n",
        "plt.xlabel(\"Label\")\n",
        "plt.ylabel(\"Number\")"
      ]
    },
    {
      "cell_type": "markdown",
      "metadata": {
        "id": "sbcct_WhYM09"
      },
      "source": [
        "X_data와 y_data를 분리한 후 dataset 데이터프레임에서 입력 및 출력 데이터를 나타냅니다."
      ]
    },
    {
      "cell_type": "code",
      "execution_count": null,
      "metadata": {
        "colab": {
          "base_uri": "https://localhost:8080/"
        },
        "id": "cw4VwrtITGQC",
        "outputId": "d90f53e5-2fac-4559-efe8-de44963c86f5"
      },
      "outputs": [
        {
          "output_type": "stream",
          "name": "stdout",
          "text": [
            "<class 'pandas.core.series.Series'> <class 'pandas.core.series.Series'> 1997 1997\n"
          ]
        }
      ],
      "source": [
        "# input / output 데이터 분리\n",
        "X_data = dataset['contents']\n",
        "y_data = dataset['sentiment']\n",
        "\n",
        "print(type(X_data), type(y_data), len(X_data), len(y_data))"
      ]
    },
    {
      "cell_type": "markdown",
      "metadata": {
        "id": "dwWgofI1gB1L"
      },
      "source": [
        "### [데이터 전처리 단계]\n",
        "\n",
        "> 한국어 텍스트 데이터를 전처리하는 함수입니다. 전처리 과정으로는 한글 및 공백 제외한 문자 모두 제거, 형태소 단어로 나누기, 단어의 수를 계산하여 하나의 문자는 제거, 불용어 제거 등이 포함됩니다. 이 함수는 입력된 텍스트에 대해 전처리된 단어 리스트를 반환합니다."
      ]
    },
    {
      "cell_type": "code",
      "execution_count": null,
      "metadata": {
        "id": "ngqVn5FPns9k"
      },
      "outputs": [],
      "source": [
        "def preprocessing(review, okt, remove_stopwords = False, stop_words =[]):\n",
        "    # 1. 한글 및 공백 제외한 문자 모두 제거\n",
        "    review_text = re.sub('[^가-힣ㄱ-ㅎㅏ-ㅣ\\\\s]', '', review).replace('\\n', '')\n",
        "\n",
        "    #2. okt 객체를 활용하여 형태소 단어로 나눔\n",
        "    word_review = okt.morphs(review_text, stem=True)\n",
        "\n",
        "    #2.1 단어의 수를 계산하여 하나의 문자는 제거\n",
        "    count = Counter(word_review)\n",
        "    word_review = Counter({x : count[x] for x in count if len(x) > 1})\n",
        "\n",
        "    if remove_stopwords:\n",
        "        #3. 불용어 제거(선택 ==> default:False)\n",
        "      word_review = [token for token in word_review if not token in stop_words]\n",
        "    return word_review\n"
      ]
    },
    {
      "cell_type": "markdown",
      "metadata": {
        "id": "FaeVynEqYm7C"
      },
      "source": [
        "> 해당 코드는 한국어 텍스트 데이터를 전처리하는 과정입니다.\n",
        "1. 한글 및 공백 제외한 문자 모두 제거\n",
        "2. okt 객체를 활용하여 형태소 단어로 나누기\n",
        "3. 단어의 수를 계산하여 하나의 문자는 제거\n",
        "4. 불용어 제거\n",
        "\n",
        ">> 또한 전처리된 텍스트 데이터를 CountVectorizer를 활용하여 `DTM(Document Term Matrix)` 생성하는 과정을 보여줍니다. 마지막으로, 유사 단어 출현 횟수 데이터 프레임을 생성하고, 가장 출현 빈도수가 높은 단어들을 클라우드 형태로 보여주는 과정을 거칩니다."
      ]
    },
    {
      "cell_type": "code",
      "execution_count": null,
      "metadata": {
        "colab": {
          "base_uri": "https://localhost:8080/",
          "height": 453
        },
        "id": "aYUjUHYIn6wI",
        "outputId": "f4268318-ef95-4630-ea0b-8d2d167ab4b8"
      },
      "outputs": [
        {
          "output_type": "execute_result",
          "data": {
            "text/plain": [
              "<matplotlib.image.AxesImage at 0x7f15e422d6c0>"
            ]
          },
          "metadata": {},
          "execution_count": 10
        },
        {
          "output_type": "display_data",
          "data": {
            "text/plain": [
              "<Figure size 640x480 with 1 Axes>"
            ],
            "image/png": "[encoded data removed]"
          },
          "metadata": {}
        }
      ],
      "source": [
        "okt = Okt()\n",
        "# 전체 텍스트 전처리 (불용어 제거)\n",
        "# 불용어 사전 불러오기\n",
        "stop_dictionary = pd.read_csv('./drive/MyDrive/stopwords-ko.txt', names=['word'])\n",
        "stop_words = list(np.array(stop_dictionary['word'].tolist()))\n",
        "#stop_words = ['은','는','이','가','하','아','것','들','의','있','되','수','보','주','등','한','님','다','셧','에']\n",
        "\n",
        "#clean_X_data_review = X_data.apply(lambda x: preprocessing(str(x), okt, remove_stopwords=True, stop_words=STOP_WORDS) if type(x) == str else None)\n",
        "\n",
        "clean_X_data_review = []\n",
        "\n",
        "for review in X_data:\n",
        "  # 리뷰가 문자열인 경우만 전처리 진행\n",
        "  if type(review) == str:\n",
        "    clean_X_data_review.append(preprocessing(review, okt, remove_stopwords = True, stop_words = stop_words))\n",
        "  else:\n",
        "    clean_X_data_review.append([])\n",
        "\n",
        "# empty input 제거\n",
        "clean_X_data_review = [x for x in clean_X_data_review if x is not None]\n",
        "y_data = y_data[:len(clean_X_data_review)]\n",
        "\n",
        "# Flatten the two-dimensional array\n",
        "clean_X_data_review_flattened = [doc[0] for doc in clean_X_data_review if len(doc) > 0]\n",
        "\n",
        "# DTM (Document Term Matrix) 생성\n",
        "tf_vectorizer = CountVectorizer()\n",
        "tf_features = tf_vectorizer.fit_transform(clean_X_data_review_flattened)\n",
        "tf = pd.DataFrame(tf_features.toarray(), columns=tf_vectorizer.get_feature_names_out())\n",
        "features = np.array(tf_features.todense())\n",
        "\n",
        "# 유사 단어 출현 횟수 데이터 프레임\n",
        "c = Counter(clean_X_data_review_flattened)\n",
        "wc = WordCloud(font_path='./drive/MyDrive/NanumSquareNeo-dEb.ttf', width=400, height=400, scale=2.0, max_font_size=250)\n",
        "gen = wc.generate_from_frequencies(c)\n",
        "plt.figure()\n",
        "plt.imshow(gen)"
      ]
    },
    {
      "cell_type": "markdown",
      "metadata": {
        "id": "1wvuumBiTrBb"
      },
      "source": [
        "### 훈련데이터, 테스트데이터 분리\n",
        "\n",
        "- `TEST_SIZE`: 데이터 분리 비율 설정\n",
        "- `RANDOM_STATE`: 난수 시드 설정\n",
        "- `train_test_split()`: 학습 데이터와 테스트 데이터를 분리"
      ]
    },
    {
      "cell_type": "code",
      "execution_count": null,
      "metadata": {
        "id": "icmQivhDTjZ5"
      },
      "outputs": [],
      "source": [
        "TEST_SIZE = 0.2 # Train: Test = 8 :2 분리\n",
        "RANDOM_STATE = 42\n",
        "\n",
        "# strtify = True 일 경우, 데이터 분리 이전의 라벨별 분포 고려\n",
        "X_train, X_test, y_train, y_test = train_test_split(clean_X_data_review, y_data,\n",
        "                                                    test_size=TEST_SIZE,\n",
        "                                                    random_state=RANDOM_STATE,\n",
        "                                                    stratify=y_data)"
      ]
    },
    {
      "cell_type": "markdown",
      "metadata": {
        "id": "romEZOWEgDKp"
      },
      "source": [
        "> 실제 데이터 비율 확인"
      ]
    },
    {
      "cell_type": "code",
      "execution_count": null,
      "metadata": {
        "id": "OSqZ3M80gCXG",
        "colab": {
          "base_uri": "https://localhost:8080/"
        },
        "outputId": "c110c681-cac4-4c55-ccfe-564ddc451370"
      },
      "outputs": [
        {
          "output_type": "stream",
          "name": "stdout",
          "text": [
            "훈련 입력 데이터 개수: 1597\n",
            "테스트 입력 데이터 개수: 400\n"
          ]
        }
      ],
      "source": [
        "print(f\"훈련 입력 데이터 개수: {len(X_train)}\")\n",
        "print(f\"테스트 입력 데이터 개수: {len(X_test)}\")"
      ]
    },
    {
      "cell_type": "markdown",
      "source": [
        "> 훈련 데이터 라벨별 비율, 테스트 데이터 라벨별 비율"
      ],
      "metadata": {
        "id": "t_e09kwAbVTb"
      }
    },
    {
      "cell_type": "code",
      "source": [
        "print (y_train.value_counts(normalize = True))\n",
        "print (y_test.value_counts(normalize = True))"
      ],
      "metadata": {
        "colab": {
          "base_uri": "https://localhost:8080/"
        },
        "id": "uBnXYw_tbbGg",
        "outputId": "2d24bb7b-70c6-433b-fa13-208bb0c40c1e"
      },
      "execution_count": null,
      "outputs": [
        {
          "output_type": "stream",
          "name": "stdout",
          "text": [
            "1    0.977458\n",
            "0    0.022542\n",
            "Name: sentiment, dtype: float64\n",
            "1    0.9775\n",
            "0    0.0225\n",
            "Name: sentiment, dtype: float64\n"
          ]
        }
      ]
    },
    {
      "cell_type": "code",
      "execution_count": null,
      "metadata": {
        "id": "98XQ6I5SxLgy"
      },
      "outputs": [],
      "source": [
        "\"\"\"\n",
        "하이퍼파라미터 세팅\n",
        "옵티마이저 Rectified Adam\n",
        "\"\"\"\n",
        "OPTIMIZER_NAME = 'RAdam'\n",
        "LEARNING_RATE = 5e-5\n",
        "TOTAL_STEPS = 10000\n",
        "MIN_LR = 1e-5\n",
        "WARMUP_PROPORTION = 0.1\n",
        "EPSILON = 1e-8\n",
        "CLIPNORM = 1.0\n",
        "MIN_DELTA = 1e-3\n",
        "PATIENCE = 5\n",
        "EPOCHS = 100\n",
        "BATCH_SZIE = 32\n",
        "DROPOUT_RATE = 0.5\n",
        "NUM_CLASS = 2\n",
        "MAX_SEQ_LEN = 64"
      ]
    },
    {
      "cell_type": "code",
      "execution_count": null,
      "metadata": {
        "id": "xFnA5PVEoVdg"
      },
      "outputs": [],
      "source": [
        "def convert_data(X_data, y_data):\n",
        "    # BERT 입력으로 들어가는 token, mask, segment, target 저장용 리스트\n",
        "    tokens, masks, segments, targets = [], [], [], []\n",
        "\n",
        "    for X, y in tqdm(zip(X_data, y_data)):\n",
        "        # token: 입력 문장 토큰화\n",
        "        token = tokenizer.encode(X, truncation = True, padding = 'max_length', max_length = MAX_SEQ_LEN)\n",
        "\n",
        "        # Mask: 토큰화한 문장 내 패딩이 아닌 경우 1, 패딩인 경우 0으로 초기화\n",
        "        num_zeros = token.count(0)\n",
        "        mask = [1] * (MAX_SEQ_LEN - num_zeros) + [0] * num_zeros\n",
        "\n",
        "        # segment: 문장 전후관계 구분: 오직 한 문장이므로 모두 0으로 초기화\n",
        "        segment = [0]*MAX_SEQ_LEN\n",
        "\n",
        "        tokens.append(token)\n",
        "        masks.append(mask)\n",
        "        segments.append(segment)\n",
        "        targets.append(y)\n",
        "\n",
        "    # numpy array로 저장\n",
        "    tokens = np.array(tokens)\n",
        "    masks = np.array(masks)\n",
        "    segments = np.array(segments)\n",
        "    targets = np.array(targets)\n",
        "\n",
        "    return [tokens, masks, segments], targets"
      ]
    },
    {
      "cell_type": "markdown",
      "metadata": {
        "id": "-ToWuhcbgKU1"
      },
      "source": [
        "### BERT 입력용 데이터 포맷으로 변경\n",
        "\n",
        "> 한국어 텍스트 데이터를 BERT 입력 형식으로 변환하는 과정입니다. 입력 데이터(문장)의 길이가 최대 길이(MAX_SEQ_LEN)보다 길 경우, 문장이 잘려 입력됩니다. 문장 전후 관계를 구분하는 segment는 한 문장만 있는 경우 모두 0으로 초기화됩니다. 또한, 데이터를 학습과 테스트 데이터로 분리하고, 각각을 BERT 입력 형식으로 변환합니다.\n",
        "- `MAX_SEQ_LEN`: 입력 데이터(문장)의 최대 길이\n",
        "- `convert_data()`: BERT 입력으로 변환하는 함수\n",
        "    - `tokenizer.encode()`: 입력 문장을 토큰화\n",
        "    - `num_zeros`: 패딩이 아닌 토큰의 개수\n",
        "    - `mask`: 패딩이 아닌 경우 1, 패딩인 경우 0으로 초기화\n",
        "    - `segment`: 문장 전후관계 구분\n",
        "    - `tokens`, `masks`, `segments`, `targets`: BERT 입력으로 들어가는 token, mask, segment, target 저장용 리스트"
      ]
    },
    {
      "cell_type": "code",
      "execution_count": null,
      "metadata": {
        "colab": {
          "base_uri": "https://localhost:8080/"
        },
        "id": "TfglEPsdiV6L",
        "outputId": "f76c45c9-4666-4a7d-a798-6b87474c50ce"
      },
      "outputs": [
        {
          "output_type": "stream",
          "name": "stderr",
          "text": [
            "1597it [00:00, 9033.47it/s]\n",
            "400it [00:00, 10744.23it/s]\n"
          ]
        }
      ],
      "source": [
        "# train 데이터를 Bert의 Input 타입에 맞게 변환\n",
        "train_x, train_y = convert_data(X_train, y_train)\n",
        "# test 데이터를 Bert의 Input 타입에 맞게 변환\n",
        "test_x, test_y = convert_data(X_test, y_test)"
      ]
    },
    {
      "cell_type": "markdown",
      "metadata": {
        "id": "O6D4kkEGibUx"
      },
      "source": [
        "- `train_x`, `train_y`: 학습 데이터를 BERT 입력 형식으로 변환한 결과\n",
        "- `test_x`, `test_y`: 테스트 데이터를 BERT 입력 형식으로 변환한 결과"
      ]
    },
    {
      "cell_type": "code",
      "execution_count": null,
      "metadata": {
        "id": "hra6EQwLfk0x"
      },
      "outputs": [],
      "source": [
        "# token, mask, segment 입력 정의\n",
        "token_inputs = tf.keras.layers.Input((MAX_SEQ_LEN,), dtype = tf.int32, name = 'input_word_ids')\n",
        "mask_inputs = tf.keras.layers.Input((MAX_SEQ_LEN,), dtype = tf.int32, name = 'input_masks')\n",
        "segment_inputs = tf.keras.layers.Input((MAX_SEQ_LEN,), dtype = tf.int32, name = 'input_segment')\n",
        "bert_outputs = model([token_inputs, mask_inputs, segment_inputs])"
      ]
    },
    {
      "cell_type": "markdown",
      "metadata": {
        "id": "LPNBWXC3ZlIt"
      },
      "source": [
        "> Hugging Face 라이브러리에서 제공하는 한국어 시퀀스 분류를 위한 BERT 모델을 사용하기 위한 입력값을 정의하는 코드입니다.\n",
        "- `token_inputs` : 입력 텍스트의 단어들을 토큰화한 값입니다.\n",
        "- `mask_inputs` : 입력 텍스트의 단어들을 마스킹한 값입니다.\n",
        "- `segment_inputs` : 입력 텍스트가 하나의 문장인지, 두 개의 문장으로 구성된 것인지를 나타내는 값입니다.\n",
        "\n",
        ">> 이렇게 정의된 입력값들은 `model`을 통해 BERT 모델에 입력으로 사용됩니다."
      ]
    },
    {
      "cell_type": "code",
      "execution_count": null,
      "metadata": {
        "id": "RaWSYnbwfuWK"
      },
      "outputs": [],
      "source": [
        "bert_output = bert_outputs[0]"
      ]
    },
    {
      "cell_type": "code",
      "execution_count": null,
      "metadata": {
        "id": "Jd7P0yJufxnA"
      },
      "outputs": [],
      "source": [
        "dropout = tf.keras.layers.Dropout(DROPOUT_RATE)(bert_output)\n",
        "\n",
        "# Multi-class classification 문제이므로 activation function은 softmax로 설정\n",
        "sentiment_layer = tf.keras.layers.Dense(NUM_CLASS, activation='softmax', kernel_initializer = tf.keras.initializers.TruncatedNormal(stddev=0.02))(dropout)\n",
        "sentiment_model = tf.keras.Model([token_inputs, mask_inputs, segment_inputs], sentiment_layer)"
      ]
    },
    {
      "cell_type": "markdown",
      "metadata": {
        "id": "-rFO7-OUaQzO"
      },
      "source": [
        "> 해당 코드는 BERT 모델을 사용하여 한국어 시퀀스 분류를 수행하는 과정 중 하나인 출력층을 구성하는 과정입니다. 이전 코드에서 출력된 bert_output에 대해 `드롭아웃(Dropout)`을 수행하고, 이를 입력으로 받아 다중 클래스 분류를 수행하는 출력층을 생성합니다. 출력층의 활성화 함수는 softmax로 설정되며, NUM_CLASS는 분류해야 할 클래스 수를 의미합니다. 이렇게 생성된 출력층과 입력값들을 이용하여 sentiment_model을 정의합니다."
      ]
    },
    {
      "cell_type": "code",
      "execution_count": null,
      "metadata": {
        "id": "ix-3awwaf1VA"
      },
      "outputs": [],
      "source": [
        "optimizer = tfa.optimizers.RectifiedAdam(learning_rate = LEARNING_RATE,\n",
        "                                         total_steps = TOTAL_STEPS,\n",
        "                                         warmup_proportion = WARMUP_PROPORTION,\n",
        "                                         min_lr = MIN_LR,\n",
        "                                         epsilon = EPSILON,\n",
        "                                         clipnorm = CLIPNORM)"
      ]
    },
    {
      "cell_type": "markdown",
      "metadata": {
        "id": "BreFN1D3ajGz"
      },
      "source": [
        "> Rectified Adam 옵티마이저를 초기화합니다.\n",
        " Rectified Adam은 일반적인 Adam 옵티마이저를 개선한 것으로, 학습 속도를 높이고 더 나은 성능을 보이는 것으로 알려져 있습니다.\n",
        "코드에서는 학습률, 총 스텝 수, 웜업 비율, 최소 학습률, 엡실론, 그리고 클립노름 등의 하이퍼파라미터를 설정하고, 이를 토대로 Rectified Adam 옵티마이저를 초기화합니다."
      ]
    },
    {
      "cell_type": "code",
      "execution_count": null,
      "metadata": {
        "id": "bzXEUvvBf5Tb"
      },
      "outputs": [],
      "source": [
        "sentiment_model.compile(optimizer = optimizer,\n",
        "                        loss = tf.keras.losses.SparseCategoricalCrossentropy(),\n",
        "                        metrics = ['accuracy'])"
      ]
    },
    {
      "cell_type": "markdown",
      "metadata": {
        "id": "57dHeCdnm0Sz"
      },
      "source": [
        "> 감정분류 모델 컴파일"
      ]
    },
    {
      "cell_type": "code",
      "execution_count": null,
      "metadata": {
        "id": "jCub9vMyf97j"
      },
      "outputs": [],
      "source": [
        "early_stopping = EarlyStopping(monitor = \"val_accuracy\",\n",
        "                              min_delta = MIN_DELTA,\n",
        "                              patience = PATIENCE)"
      ]
    },
    {
      "cell_type": "markdown",
      "metadata": {
        "id": "tBDR-r-yawcr"
      },
      "source": [
        "> EarlyStopping은 Keras에서 제공하는 콜백 중 하나로, 모델 학습 중 검증 데이터셋의 성능 지표에 대한 변화가 미미해지면 학습을 조기 종료시키는 기능을 수행합니다. monitor 인자에 모니터링할 지표를 지정하고, min_delta 인자에 어느 정도의 성능 변화를 무시할지를 지정하며, patience 인자에는 성능 지표가 개선되지 않은 상태를 얼마나 더 허용할지를 지정합니다."
      ]
    },
    {
      "cell_type": "code",
      "execution_count": null,
      "metadata": {
        "id": "Oy2b-vVjYoAd"
      },
      "outputs": [],
      "source": [
        "# Directory created.\n",
        "def mkDirExistFolder (path_name):\n",
        "  if path.exists(path_name) == False:\n",
        "    os.mkdir(path_name)\n",
        "\n",
        "  return path_name"
      ]
    },
    {
      "cell_type": "code",
      "execution_count": null,
      "metadata": {
        "id": "ERMILVD4gCMe"
      },
      "outputs": [],
      "source": [
        "# 최고 성능의 모델 파일을 저장할 이름과 경로 설정\n",
        "BEST_MODEL_NAME = mkDirExistFolder('./sample_data/model/') + 'best_model.h5'\n",
        "\n",
        "model_checkpoint = ModelCheckpoint(filepath = BEST_MODEL_NAME,\n",
        "                                   monitor = \"val_loss\",\n",
        "                                   mode = \"min\",\n",
        "                                   save_best_only = True, # 성능 향상 시에만 모델 저장\n",
        "                                   verbose = 1)"
      ]
    },
    {
      "cell_type": "code",
      "execution_count": null,
      "metadata": {
        "id": "ELzQhWWUgZIq"
      },
      "outputs": [],
      "source": [
        "callbacks = [early_stopping, model_checkpoint]"
      ]
    },
    {
      "cell_type": "markdown",
      "metadata": {
        "id": "zuRIClXXhEbs"
      },
      "source": [
        "### 감정 분류 모델 학습"
      ]
    },
    {
      "cell_type": "markdown",
      "source": [
        "> 트레인 데이터(train_x, train_y)를 사용하여 감성 분류 모델을 학습하고, 테스트 데이터(test_x, test_y)를 사용하여 검증하는 코드입니다. sentiment_model.fit() 메소드를 호출하여 모델을 학습하고, 검증 결과를 확인하며, 콜백 함수를 사용하여 모델의 성능을 모니터링합니다."
      ],
      "metadata": {
        "id": "l5f5-5NWgPPM"
      }
    },
    {
      "cell_type": "code",
      "execution_count": null,
      "metadata": {
        "colab": {
          "base_uri": "https://localhost:8080/"
        },
        "id": "2RrUkPEqgf0R",
        "outputId": "0068551b-29d8-4090-d042-9b2c3cf26fd8"
      },
      "outputs": [
        {
          "output_type": "stream",
          "name": "stdout",
          "text": [
            "Epoch 1/100\n",
            "50/50 [==============================] - ETA: 0s - loss: 0.6925 - accuracy: 0.5360\n",
            "Epoch 1: val_loss improved from inf to 0.68989, saving model to ./sample_data/model/best_model.h5\n",
            "50/50 [==============================] - 101s 919ms/step - loss: 0.6925 - accuracy: 0.5360 - val_loss: 0.6899 - val_accuracy: 0.9175\n",
            "Epoch 2/100\n",
            "50/50 [==============================] - ETA: 0s - loss: 0.6846 - accuracy: 0.8384\n",
            "Epoch 2: val_loss improved from 0.68989 to 0.67634, saving model to ./sample_data/model/best_model.h5\n",
            "50/50 [==============================] - 37s 741ms/step - loss: 0.6846 - accuracy: 0.8384 - val_loss: 0.6763 - val_accuracy: 0.9775\n",
            "Epoch 3/100\n",
            "50/50 [==============================] - ETA: 0s - loss: 0.6630 - accuracy: 0.9775\n",
            "Epoch 3: val_loss improved from 0.67634 to 0.64500, saving model to ./sample_data/model/best_model.h5\n",
            "50/50 [==============================] - 36s 724ms/step - loss: 0.6630 - accuracy: 0.9775 - val_loss: 0.6450 - val_accuracy: 0.9775\n",
            "Epoch 4/100\n",
            "50/50 [==============================] - ETA: 0s - loss: 0.6302 - accuracy: 0.9775\n",
            "Epoch 4: val_loss improved from 0.64500 to 0.61252, saving model to ./sample_data/model/best_model.h5\n",
            "50/50 [==============================] - 36s 729ms/step - loss: 0.6302 - accuracy: 0.9775 - val_loss: 0.6125 - val_accuracy: 0.9775\n",
            "Epoch 5/100\n",
            "50/50 [==============================] - ETA: 0s - loss: 0.6075 - accuracy: 0.9775\n",
            "Epoch 5: val_loss improved from 0.61252 to 0.59115, saving model to ./sample_data/model/best_model.h5\n",
            "50/50 [==============================] - 37s 739ms/step - loss: 0.6075 - accuracy: 0.9775 - val_loss: 0.5912 - val_accuracy: 0.9775\n",
            "Epoch 6/100\n",
            "50/50 [==============================] - ETA: 0s - loss: 0.5894 - accuracy: 0.9775\n",
            "Epoch 6: val_loss improved from 0.59115 to 0.57170, saving model to ./sample_data/model/best_model.h5\n",
            "50/50 [==============================] - 32s 644ms/step - loss: 0.5894 - accuracy: 0.9775 - val_loss: 0.5717 - val_accuracy: 0.9775\n",
            "Epoch 7/100\n",
            "50/50 [==============================] - ETA: 0s - loss: 0.5688 - accuracy: 0.9775\n",
            "Epoch 7: val_loss improved from 0.57170 to 0.55007, saving model to ./sample_data/model/best_model.h5\n",
            "50/50 [==============================] - 38s 759ms/step - loss: 0.5688 - accuracy: 0.9775 - val_loss: 0.5501 - val_accuracy: 0.9775\n"
          ]
        },
        {
          "output_type": "execute_result",
          "data": {
            "text/plain": [
              "<keras.callbacks.History at 0x7f15b6184d60>"
            ]
          },
          "metadata": {},
          "execution_count": 28
        }
      ],
      "source": [
        "sentiment_model.fit(train_x, train_y,\n",
        "                    epochs = EPOCHS,\n",
        "                    shuffle = True,\n",
        "                    batch_size = BATCH_SZIE,\n",
        "                    validation_data = (test_x, test_y),\n",
        "                    callbacks = callbacks\n",
        "                    )"
      ]
    },
    {
      "cell_type": "code",
      "execution_count": null,
      "metadata": {
        "id": "IFtjPXeqh4vH"
      },
      "outputs": [],
      "source": [
        "# 최고 성능의 모델 불러오기\n",
        "sentiment_model_best = tf.keras.models.load_model(BEST_MODEL_NAME,\n",
        "                                                  custom_objects={'TFBertForSequenceClassification': TFBertForSequenceClassification})"
      ]
    },
    {
      "cell_type": "code",
      "execution_count": null,
      "metadata": {
        "id": "tb1A9Bu_iO9f",
        "colab": {
          "base_uri": "https://localhost:8080/"
        },
        "outputId": "94f22be6-97be-45f5-e7cb-3d12690bc40f"
      },
      "outputs": [
        {
          "output_type": "stream",
          "name": "stdout",
          "text": [
            "13/13 [==============================] - 6s 143ms/step\n"
          ]
        }
      ],
      "source": [
        "# 모델이 예측한 라벨 도출\n",
        "predicted_value = sentiment_model_best.predict(test_x)\n",
        "predicted_label = np.argmax(predicted_value, axis = 1)"
      ]
    },
    {
      "cell_type": "markdown",
      "source": [
        "> 분류된 데이터를 이용하여 Classification Report 파일을 생성합니다."
      ],
      "metadata": {
        "id": "Ywf1tuDBgxyF"
      }
    },
    {
      "cell_type": "code",
      "execution_count": null,
      "metadata": {
        "id": "xOZTFtsliTXx",
        "colab": {
          "base_uri": "https://localhost:8080/"
        },
        "outputId": "45724f1e-8301-40f3-bc95-efea207e51dc"
      },
      "outputs": [
        {
          "output_type": "stream",
          "name": "stdout",
          "text": [
            "              precision  recall  f1-score  support\n",
            "0                  0.00    0.00      0.00     9.00\n",
            "1                  0.98    1.00      0.99   391.00\n",
            "accuracy           0.98    0.98      0.98     0.98\n",
            "macro avg          0.49    0.50      0.49   400.00\n",
            "weighted avg       0.96    0.98      0.97   400.00\n"
          ]
        },
        {
          "output_type": "stream",
          "name": "stderr",
          "text": [
            "/usr/local/lib/python3.10/dist-packages/sklearn/metrics/_classification.py:1344: UndefinedMetricWarning: Precision and F-score are ill-defined and being set to 0.0 in labels with no predicted samples. Use `zero_division` parameter to control this behavior.\n",
            "  _warn_prf(average, modifier, msg_start, len(result))\n",
            "/usr/local/lib/python3.10/dist-packages/sklearn/metrics/_classification.py:1344: UndefinedMetricWarning: Precision and F-score are ill-defined and being set to 0.0 in labels with no predicted samples. Use `zero_division` parameter to control this behavior.\n",
            "  _warn_prf(average, modifier, msg_start, len(result))\n",
            "/usr/local/lib/python3.10/dist-packages/sklearn/metrics/_classification.py:1344: UndefinedMetricWarning: Precision and F-score are ill-defined and being set to 0.0 in labels with no predicted samples. Use `zero_division` parameter to control this behavior.\n",
            "  _warn_prf(average, modifier, msg_start, len(result))\n"
          ]
        }
      ],
      "source": [
        "# Classification Report 저장\n",
        "CL_REPORT_FILE = \"./sample_data/model/cl_report.csv\"\n",
        "\n",
        "cl_report = classification_report(test_y, predicted_label, output_dict = True)\n",
        "cl_report_df = pd.DataFrame(cl_report).transpose()\n",
        "cl_report_df = cl_report_df.round(2)\n",
        "cl_report_df.to_csv(CL_REPORT_FILE)\n",
        "print(cl_report_df)"
      ]
    },
    {
      "cell_type": "markdown",
      "source": [
        "> 테스트 데이터와 예측 결과를 바탕으로 혼동 행렬을 생성하고, 이를 시각화하여 출력합니다."
      ],
      "metadata": {
        "id": "HaHeOtfDg_KD"
      }
    },
    {
      "cell_type": "code",
      "execution_count": null,
      "metadata": {
        "id": "DzwdFyzE8WRY",
        "colab": {
          "base_uri": "https://localhost:8080/",
          "height": 542
        },
        "outputId": "3d3dc7c2-e1a9-4197-a155-01e3ecaf66c3"
      },
      "outputs": [
        {
          "output_type": "display_data",
          "data": {
            "text/plain": [
              "<Figure size 800x600 with 2 Axes>"
            ],
            "image/png": "[encoded data removed]"
          },
          "metadata": {}
        }
      ],
      "source": [
        "# 이미지 파일 저장정보\n",
        "FIGURE_FILE = mkDirExistFolder('./sample_data/figure/') + \"cf_matrix.png\"\n",
        "\n",
        "cf_matrix = confusion_matrix(test_y, predicted_label)\n",
        "fig, ax = plt.subplots(figsize = (8,6))\n",
        "sns.heatmap(cf_matrix, annot = True, fmt = 'd')\n",
        "plt.ylabel('Actual')\n",
        "plt.xlabel('Predicted')\n",
        "plt.savefig(FIGURE_FILE)\n",
        "plt.show()"
      ]
    },
    {
      "cell_type": "markdown",
      "source": [
        "> Multi-class Classification에서 사용되는 대중적인 평가 지표들을 계산하는 코드입니다. 코드에서 각각의 평가 지표들을 계산하기 위해 scikit-learn 라이브러리의 함수들을 사용합니다.\n",
        "- accuracy_score: 정확도\n",
        "- precision_score: 정밀도\n",
        "- recall_score: 재현율\n",
        "- f1_score: F1 점수\n",
        "- roc_auc_score: ROC AUC 점수\n",
        "- cohen_kappa_score: Cohen's Kappa 점수\n",
        "- matthews_corrcoef: Matthews Correlation Coefficient\n",
        "- log_loss: 로그 손실\n",
        "각 지표들은 다양한 측면에서 모델의 성능을 평가하는 데 사용됩니다."
      ],
      "metadata": {
        "id": "mJYNppzn-gjJ"
      }
    },
    {
      "cell_type": "code",
      "execution_count": null,
      "metadata": {
        "id": "NTuIS27E9DuT",
        "colab": {
          "base_uri": "https://localhost:8080/"
        },
        "outputId": "a70c3c82-935f-4136-ac95-878a7b6ceef8"
      },
      "outputs": [
        {
          "output_type": "stream",
          "name": "stderr",
          "text": [
            "/usr/local/lib/python3.10/dist-packages/sklearn/metrics/_classification.py:1344: UndefinedMetricWarning: Precision is ill-defined and being set to 0.0 in labels with no predicted samples. Use `zero_division` parameter to control this behavior.\n",
            "  _warn_prf(average, modifier, msg_start, len(result))\n"
          ]
        }
      ],
      "source": [
        "# Multi-class Classification의 대중적인 평가 지표 모두 확인\n",
        "\n",
        "accuracy_score_v = round(accuracy_score(y_test, predicted_label), 2) # Accuracy\n",
        "precision_score_v = round(precision_score(y_test, predicted_label, average=\"weighted\"), 2) # Precision\n",
        "recall_score_v = round(recall_score(y_test, predicted_label, average=\"weighted\"), 2) # Recall\n",
        "f1_score_v = round(f1_score(y_test, predicted_label, average=\"weighted\"), 2) # F1 Score\n",
        "#roc_auc_score_v = round(roc_auc_score(y_test, predicted_value, average=\"weighted\", multi_class=\"ovr\"), 2) # ROC AUC Score\n",
        "cohen_kappa_score_v = round(cohen_kappa_score(y_test, predicted_label), 2) # Cohen's Kappa Score\n",
        "matthews_corrcoef_v = round(matthews_corrcoef(y_test, predicted_label), 2) # Matthew's Correlation Coefficient\n",
        "log_loss_v = round(log_loss(y_test, predicted_value), 2) # Log Loss"
      ]
    },
    {
      "cell_type": "markdown",
      "source": [],
      "metadata": {
        "id": "kXWD38CtBxwh"
      }
    },
    {
      "cell_type": "markdown",
      "source": [
        "> 평가 지표를 확인할 수 있도록 csv 형태의 파일로 저장합니다."
      ],
      "metadata": {
        "id": "0e9F1-0Z-pOn"
      }
    },
    {
      "cell_type": "code",
      "execution_count": null,
      "metadata": {
        "id": "n41YcWmT9Hhi"
      },
      "outputs": [],
      "source": [
        "METRIC_FILE = mkDirExistFolder('./sample_data/metric/') + 'metric.csv'\n",
        "metric_total = pd.DataFrame({'PLM' : MODEL_NAME,\n",
        "                             'Optimizer' : OPTIMIZER_NAME,\n",
        "                             'Accuracy' : accuracy_score_v,\n",
        "                             'Precision' : precision_score_v,\n",
        "                             'Recall' : recall_score_v,\n",
        "                             'F1_score' : f1_score_v,\n",
        "                             #'ROC_AUC_score' : roc_auc_score_v,\n",
        "                             'Cohen_kappa_coef' : cohen_kappa_score_v,\n",
        "                             'Matthews_corrcoef' : matthews_corrcoef_v,\n",
        "                             'Log_loss' : log_loss_v},\n",
        "                             index = ['-'])"
      ]
    },
    {
      "cell_type": "code",
      "execution_count": null,
      "metadata": {
        "id": "rJQlccSo9eO8",
        "colab": {
          "base_uri": "https://localhost:8080/"
        },
        "outputId": "dbd6f2f4-1bb9-440f-867a-76792619c0cd"
      },
      "outputs": [
        {
          "output_type": "stream",
          "name": "stdout",
          "text": [
            "              PLM Optimizer  Accuracy  Precision  Recall  F1_score  \\\n",
            "-  klue/bert-base     RAdam      0.98       0.96    0.98      0.97   \n",
            "\n",
            "   Cohen_kappa_coef  Matthews_corrcoef  Log_loss  \n",
            "-               0.0                0.0      0.55  \n"
          ]
        }
      ],
      "source": [
        "metric_total.to_csv(METRIC_FILE)\n",
        "print(metric_total)"
      ]
    }
  ],
  "metadata": {
    "accelerator": "GPU",
    "colab": {
      "collapsed_sections": [
        "mm_XuxJS9EuF",
        "aDkrOXzQAOys",
        "y66SD-l61xeM"
      ],
      "provenance": [],
      "authorship_tag": "ABX9TyMMQnmzDea4yClOJindleWN"
    },
    "kernelspec": {
      "display_name": "Python 3",
      "name": "python3"
    },
    "language_info": {
      "name": "python"
    }
  },
  "nbformat": 4,
  "nbformat_minor": 0
}