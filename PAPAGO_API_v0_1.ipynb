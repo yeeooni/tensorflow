{
  "nbformat": 4,
  "nbformat_minor": 0,
  "metadata": {
    "colab": {
      "provenance": [],
      "mount_file_id": "1X3-S3SKcc-0Il0OgpRkU7QrVxzZjndYc",
      "authorship_tag": "ABX9TyNj9jpqzfoIFpZvWwPzI/CS"
    },
    "kernelspec": {
      "name": "python3",
      "display_name": "Python 3"
    },
    "language_info": {
      "name": "python"
    }
  },
  "cells": [
    {
      "cell_type": "code",
      "execution_count": null,
      "metadata": {
        "id": "sj1sSUbr5sXJ"
      },
      "outputs": [],
      "source": [
        "import requests\n",
        "\n",
        "def get_translate(text):\n",
        "    client_id = \"####\" # <-- client_id 기입\n",
        "    client_secret = \"####\" # <-- client_secret 기입\n",
        "\n",
        "    data = {'text' : text,\n",
        "            'source' : 'en',\n",
        "            'target': 'ko'}\n",
        "\n",
        "    url = \"https://openapi.naver.com/v1/papago/n2mt\"\n",
        "\n",
        "    header = {\"X-Naver-Client-Id\":client_id,\n",
        "              \"X-Naver-Client-Secret\":client_secret}\n",
        "\n",
        "    response = requests.post(url, headers=header, data=data)\n",
        "    rescode = response.status_code\n",
        "\n",
        "    if(rescode==200):\n",
        "        send_data = response.json()\n",
        "        trans_data = (send_data['message']['result']['translatedText'])\n",
        "        return trans_data\n",
        "    else:\n",
        "        print(\"Error Code:\" , rescode)"
      ]
    },
    {
      "cell_type": "markdown",
      "source": [
        "파파고 API 예제)\n",
        "네이버에서 제공해주는 기본 소스"
      ],
      "metadata": {
        "id": "OAvbsoql7BKg"
      }
    },
    {
      "cell_type": "code",
      "source": [
        "import os\n",
        "import sys\n",
        "import urllib.request\n",
        "import json\n",
        "from pprint import pprint\n",
        "import pandas as pd\n",
        "\n",
        "# 파일 읽어오기\n",
        "#df = pd.read_excel('/content/drive/MyDrive/reviews.xlsx')\n",
        "df = pd.read_excel('리뷰데이터엑셀파일경로.xlsx')\n",
        "#print(df)\n",
        "df.head()\n",
        "\n",
        "# 번역하고 싶은 컬럼 => 리스트로 변환\n",
        "c_list = df['content'].tolist()\n",
        "# print(len(c_list))\n",
        "\n",
        "# 번역 결과를 담을 리스트 객체 생성\n",
        "c_result_list = []\n",
        "\n",
        "# 특정 파일에서 클라이언트 아이디, 패스워드 가져오기\n",
        "# 보안상 로컬의 파일에서 로딩하여 가져오는것으로 구현함.\n",
        "# file_path = '/content/drive/MyDrive/papago_client.txt'\n",
        "# labels = open(file_path).read().splitlines()\n",
        "\n",
        "#client_id = labels[0].split('=')[1]\n",
        "#client_pw = labels[1].split('=')[1]\n",
        "client_id = '개발자센터에서 발급된 어플리케이션 아이디 입력'\n",
        "client_pw = '개발자센터에서 발급된 어플리케이션 비밀번호 입력'\n",
        "\n",
        "# print(client_id, client_pw)\n",
        "\n",
        "''' 한 문장 번역 테스트\n",
        "encText = urllib.parse.quote('이건 테스트 입니다.')\n",
        "data = 'source=ko&target=en&text=' + encText\n",
        "url = 'https://openapi.naver.com/v1/papago/n2mt'\n",
        "request = urllib.request.Request(url)\n",
        "request.add_header('X-Naver-Client-Id', client_id)\n",
        "request.add_header('X-Naver-Client-Secret', client_pw)\n",
        "response = urllib.request.urlopen(request, data=data.encode(\"utf-8\"))\n",
        "response_body = response.read().decode('utf-8')\n",
        "rescode = response.getcode()\n",
        "\n",
        "if (rescode == 200):\n",
        "  res = json.loads(response_body)\n",
        "  print (res['message']['result']['translatedText'])\n",
        "else :\n",
        "  print ('Error Code :' + rescode)\n",
        "'''\n",
        "\n",
        "# 엑셀 데이터의 리스트 크기 만큼 번역 테스트\n",
        "# 번역 하루 제한량이 존재하기에 일단 15개 row로 한정\n",
        "for i in range (15) :\n",
        "  encText = urllib.parse.quote(c_list[i])\n",
        "  data = 'source=ko&target=en&text=' + encText\n",
        "  url = 'https://openapi.naver.com/v1/papago/n2mt'\n",
        "  request = urllib.request.Request(url)\n",
        "  request.add_header('X-Naver-Client-Id', client_id)\n",
        "  request.add_header('X-Naver-Client-Secret', client_pw)\n",
        "  response = urllib.request.urlopen(request, data=data.encode(\"utf-8\"))\n",
        "  response_body = response.read().decode('utf-8')\n",
        "  rescode = response.getcode()\n",
        "\n",
        "  if (rescode == 200):\n",
        "    res = json.loads(response_body)\n",
        "    result = res['message']['result']['translatedText']\n",
        "    c_result_list.append(result)\n",
        "  else :\n",
        "    print ('Error Code :' + rescode)\n",
        "\n",
        "# 번역 결과 데이터프레임 생성\n",
        "result_df = pd.DataFrame({'translated_content': c_result_list})\n",
        "\n",
        "# 엑셀 데이터프레임과 번역 결과 데이터프레임 합치기\n",
        "merged_df = pd.concat([df, result_df], axis=1)\n",
        "\n",
        "# 합쳐진 데이터프레임을 엑셀 파일로 저장\n",
        "merged_df.to_excel('/content/drive/MyDrive/translated_reviews.xlsx', index=False)"
      ],
      "metadata": {
        "colab": {
          "base_uri": "https://localhost:8080/"
        },
        "id": "ohCDiU7V7XN-",
        "outputId": "e6b0ab92-52cd-41b6-feeb-bc238a4326cf"
      },
      "execution_count": null,
      "outputs": [
        {
          "output_type": "stream",
          "name": "stdout",
          "text": [
            "3160\n"
          ]
        }
      ]
    }
  ]
}